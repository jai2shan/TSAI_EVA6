{
 "cells": [
  {
   "cell_type": "markdown",
   "id": "d18ea126",
   "metadata": {},
   "source": [
    "## Assignment"
   ]
  },
  {
   "cell_type": "markdown",
   "id": "ef678ac5",
   "metadata": {},
   "source": [
    "1) What are Channels and Kernels (according to EVA)?      \n",
    "2) Why should we (nearly) always use 3x3 kernels?      \n",
    "3) How many times do we need to perform 3x3 convolutions operations to reach close to 1x1 from 199x199 (type each layer output    like 199x199 > 197x197...)      \n",
    "4) How are kernels initialized?       \n",
    "5) What happens during the training of a DNN?      "
   ]
  },
  {
   "cell_type": "markdown",
   "id": "115b818b",
   "metadata": {},
   "source": [
    "## Answers"
   ]
  },
  {
   "cell_type": "markdown",
   "id": "086fb1f7",
   "metadata": {},
   "source": [
    "#### How are kernels initialized?"
   ]
  },
  {
   "cell_type": "markdown",
   "id": "d95f7177",
   "metadata": {},
   "source": [
    "Kernel over the input data, performs the dot product with the sub-region of input data, and gets the output as the matrix of dot products. In short, the kernel is used to extract high-level features like edges from the image."
   ]
  },
  {
   "cell_type": "markdown",
   "id": "75b9c0e6",
   "metadata": {},
   "source": [
    "Before the advances in optimization techniques and activation of non linearities, kernel is initializes from a random distribution. With advances, all the advances we are able to train convolutional neural networks from a randomized initialization.\n",
    "\n",
    "Weights of the backpropagation will be randomly initialized such that the mean of the distribution weights is 0 and standard deviation of 1.\n",
    "\n",
    "Source : https://stats.stackexchange.com/questions/200513/how-to-initialize-the-elements-of-the-filter-matrix\n",
    "\n",
    "###### Potential Problems with Weight Initializations\n",
    "1) If the weights are too small, then the signal shrinks as it passes through each layer. Ends up with very small value to use.      \n",
    "2) If the weights are too large, then the signal grows too large as it passes through each layer, which will bevery large by the time it ends    \n",
    "\n",
    "Xavier Initialization takes care of this problem. For more understanding on Xavier initialization below blog and vlog can be used.      \n",
    "https://andyljones.tumblr.com/post/110998971763/an-explanation-of-xavier-initialization     \n",
    "https://www.youtube.com/watch?v=8krd5qKVw-Q    \n",
    "Paper on Xavier Initialization : http://proceedings.mlr.press/v9/glorot10a/glorot10a.pdf"
   ]
  },
  {
   "cell_type": "markdown",
   "id": "91d0ed66",
   "metadata": {},
   "source": [
    "#### 5) What happens during the training of a DNN?      "
   ]
  },
  {
   "cell_type": "markdown",
   "id": "8e0db723",
   "metadata": {},
   "source": [
    "<img src=\"images/1_vkQ0hXDaQv57sALXAJquxA.jpeg\"  />"
   ]
  },
  {
   "cell_type": "markdown",
   "id": "4c079647",
   "metadata": {},
   "source": [
    "\n",
    "Mainly Two things happen in CNN               \n",
    "1)Feature Learning: Series of convolutional layers that convolve with a multiplication or other dot product                  \n",
    "2)Classification: Activation function is commonly a RELU layer, and is subsequently followed by additional convolutions such as pooling layers, fully connected layers and normalization layers, referred to as hidden layers because their inputs and outputs are masked by the activation function and final convolution.                   \n",
    "The final convolution, in turn, often involves backpropagation in order to more accurately weight the end product."
   ]
  },
  {
   "cell_type": "code",
   "execution_count": null,
   "id": "98ccb4d1",
   "metadata": {},
   "outputs": [],
   "source": []
  },
  {
   "cell_type": "code",
   "execution_count": null,
   "id": "a26913a5",
   "metadata": {},
   "outputs": [],
   "source": []
  },
  {
   "cell_type": "code",
   "execution_count": null,
   "id": "436ec86e",
   "metadata": {},
   "outputs": [],
   "source": []
  },
  {
   "cell_type": "code",
   "execution_count": null,
   "id": "372e2e1c",
   "metadata": {},
   "outputs": [],
   "source": []
  },
  {
   "cell_type": "code",
   "execution_count": null,
   "id": "84dcdecf",
   "metadata": {},
   "outputs": [],
   "source": []
  },
  {
   "cell_type": "code",
   "execution_count": null,
   "id": "3f54e519",
   "metadata": {},
   "outputs": [],
   "source": []
  }
 ],
 "metadata": {
  "kernelspec": {
   "display_name": "Python 3",
   "language": "python",
   "name": "python3"
  },
  "language_info": {
   "codemirror_mode": {
    "name": "ipython",
    "version": 3
   },
   "file_extension": ".py",
   "mimetype": "text/x-python",
   "name": "python",
   "nbconvert_exporter": "python",
   "pygments_lexer": "ipython3",
   "version": "3.8.3"
  }
 },
 "nbformat": 4,
 "nbformat_minor": 5
}
