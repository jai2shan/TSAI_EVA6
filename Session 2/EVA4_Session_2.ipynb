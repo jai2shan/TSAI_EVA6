{
  "nbformat": 4,
  "nbformat_minor": 0,
  "metadata": {
    "colab": {
      "name": "EVA4 - Session 2.ipynb",
      "provenance": [],
      "include_colab_link": true
    },
    "kernelspec": {
      "name": "python3",
      "display_name": "Python 3"
    },
    "accelerator": "GPU"
  },
  "cells": [
    {
      "cell_type": "markdown",
      "metadata": {
        "id": "view-in-github",
        "colab_type": "text"
      },
      "source": [
        "<a href=\"https://colab.research.google.com/github/jai2shan/TSAI_EVA6/blob/main/Session%202/EVA4_Session_2.ipynb\" target=\"_parent\"><img src=\"https://colab.research.google.com/assets/colab-badge.svg\" alt=\"Open In Colab\"/></a>"
      ]
    },
    {
      "cell_type": "code",
      "metadata": {
        "id": "0m2JWFliFfKT"
      },
      "source": [
        "from __future__ import print_function\n",
        "import torch\n",
        "import torch.nn as nn\n",
        "import torch.nn.functional as F\n",
        "import torch.optim as optim\n",
        "from torchvision import datasets, transforms"
      ],
      "execution_count": 1,
      "outputs": []
    },
    {
      "cell_type": "code",
      "metadata": {
        "id": "h_Cx9q2QFgM7"
      },
      "source": [
        "class Net(nn.Module):\n",
        "    def __init__(self):\n",
        "        super(Net, self).__init__()\n",
        "        self.conv1 = nn.Conv2d(1, 32, 3, padding=1)     #input Image Size - 28; Output size- 28, Receptive field (for Output) - 3, Kernels - 32\n",
        "        self.conv2 = nn.Conv2d(32, 64, 3, padding=1)    #input Image Size - 28(Hypothetical - 26); Output size- 28, Receptive field (for Output) - 5 , Kernels - 64\n",
        "        self.pool1 = nn.MaxPool2d(2, 2)                 #input Image Size - 28; Output size- 14, Receptive field (for Output) - 5, Kernels \n",
        "        self.conv3 = nn.Conv2d(64, 128, 3, padding=1)   #input image size - 14; Output size- 14, Receptive field (for Output) - 7, Kernels - 128\n",
        "        self.conv4 = nn.Conv2d(128, 256, 3, padding=1)  #input image size - 14; Output size- 14, Receptive field (for Output) - 9, Kernels - 256\n",
        "        self.pool2 = nn.MaxPool2d(2, 2)                 #input image size - 14; Output size- 7, Receptive field (for Output) - 11, \n",
        "        self.conv5 = nn.Conv2d(256, 512, 3)             #input image size - 7; Output size- 7, Receptive field (for Output) - 13, Kernels - 512\n",
        "        self.conv6 = nn.Conv2d(512, 1024, 3)            #input image size - 7; Output size- 7, Receptive field (for Output) - 15, Kernels - 1024\n",
        "        self.conv7 = nn.Conv2d(1024, 10, 3)             #input image size - 7; Output size- 7, Receptive field (for Output) - 17, Kernels - 10\n",
        "\n",
        "    def forward(self, x):\n",
        "        x = self.pool1(F.relu(self.conv2(F.relu(self.conv1(x))))) # Block 1 : conv1 -> Relu -> conv2 -> Relu -> Max Pooling ->  : Block 2\n",
        "        x = self.pool2(F.relu(self.conv4(F.relu(self.conv3(x))))) # Block 2 : conv3 -> Relu -> conv4 -> Relu -> Max Pooling ->  : Block 3\n",
        "        x = F.relu(self.conv6(F.relu(self.conv5(x))))             # Block 3 : conv5 -> Relu -> conv6 -> Relu -> : Block 4 \n",
        "        x = F.relu(self.conv7(x))                                 # Block 4 : conv7\n",
        "        x = x.view(-1, 10)\n",
        "        return F.log_softmax(x)"
      ],
      "execution_count": 7,
      "outputs": []
    },
    {
      "cell_type": "code",
      "metadata": {
        "id": "xdydjYTZFyi3",
        "colab": {
          "base_uri": "https://localhost:8080/"
        },
        "outputId": "ac9249c4-9b27-4498-842a-39e465c4a353"
      },
      "source": [
        "\n",
        "#!pip install torchsummary\n",
        "# Loading the Torch summary to display the model summary\n",
        "from torchsummary import summary\n",
        "# Check if cuda is available for processing\n",
        "use_cuda = torch.cuda.is_available()\n",
        "# if available use the GPU(cuda) else CPU\n",
        "device = torch.device(\"cuda\" if use_cuda else \"cpu\")\n",
        "# Initiate the model the available device\n",
        "model = Net().to(device)\n",
        "# Print the summary of the model\n",
        "summary(model, input_size=(1, 28, 28))"
      ],
      "execution_count": 8,
      "outputs": [
        {
          "output_type": "stream",
          "text": [
            "Requirement already satisfied: torchsummary in /usr/local/lib/python3.7/dist-packages (1.5.1)\n",
            "----------------------------------------------------------------\n",
            "        Layer (type)               Output Shape         Param #\n",
            "================================================================\n",
            "            Conv2d-1           [-1, 32, 28, 28]             320\n",
            "            Conv2d-2           [-1, 64, 28, 28]          18,496\n",
            "         MaxPool2d-3           [-1, 64, 14, 14]               0\n",
            "            Conv2d-4          [-1, 128, 14, 14]          73,856\n",
            "            Conv2d-5          [-1, 256, 14, 14]         295,168\n",
            "         MaxPool2d-6            [-1, 256, 7, 7]               0\n",
            "            Conv2d-7            [-1, 512, 5, 5]       1,180,160\n",
            "            Conv2d-8           [-1, 1024, 3, 3]       4,719,616\n",
            "            Conv2d-9             [-1, 10, 1, 1]          92,170\n",
            "================================================================\n",
            "Total params: 6,379,786\n",
            "Trainable params: 6,379,786\n",
            "Non-trainable params: 0\n",
            "----------------------------------------------------------------\n",
            "Input size (MB): 0.00\n",
            "Forward/backward pass size (MB): 1.51\n",
            "Params size (MB): 24.34\n",
            "Estimated Total Size (MB): 25.85\n",
            "----------------------------------------------------------------\n"
          ],
          "name": "stdout"
        },
        {
          "output_type": "stream",
          "text": [
            "/usr/local/lib/python3.7/dist-packages/ipykernel_launcher.py:20: UserWarning: Implicit dimension choice for log_softmax has been deprecated. Change the call to include dim=X as an argument.\n"
          ],
          "name": "stderr"
        }
      ]
    },
    {
      "cell_type": "code",
      "metadata": {
        "id": "viJE2_4NVehV",
        "outputId": "d404f581-5646-4a01-9749-1910632f75e7",
        "colab": {
          "base_uri": "https://localhost:8080/"
        }
      },
      "source": [
        "model"
      ],
      "execution_count": 13,
      "outputs": [
        {
          "output_type": "execute_result",
          "data": {
            "text/plain": [
              "Net(\n",
              "  (conv1): Conv2d(1, 32, kernel_size=(3, 3), stride=(1, 1), padding=(1, 1))\n",
              "  (conv2): Conv2d(32, 64, kernel_size=(3, 3), stride=(1, 1), padding=(1, 1))\n",
              "  (pool1): MaxPool2d(kernel_size=2, stride=2, padding=0, dilation=1, ceil_mode=False)\n",
              "  (conv3): Conv2d(64, 128, kernel_size=(3, 3), stride=(1, 1), padding=(1, 1))\n",
              "  (conv4): Conv2d(128, 256, kernel_size=(3, 3), stride=(1, 1), padding=(1, 1))\n",
              "  (pool2): MaxPool2d(kernel_size=2, stride=2, padding=0, dilation=1, ceil_mode=False)\n",
              "  (conv5): Conv2d(256, 512, kernel_size=(3, 3), stride=(1, 1))\n",
              "  (conv6): Conv2d(512, 1024, kernel_size=(3, 3), stride=(1, 1))\n",
              "  (conv7): Conv2d(1024, 10, kernel_size=(3, 3), stride=(1, 1))\n",
              ")"
            ]
          },
          "metadata": {
            "tags": []
          },
          "execution_count": 13
        }
      ]
    },
    {
      "cell_type": "code",
      "metadata": {
        "id": "DqTWLaM5GHgH"
      },
      "source": [
        "# Setting seed to replicate the results\n",
        "torch.manual_seed(1)\n",
        "# defining batch size for training\n",
        "batch_size = 128\n",
        "\n",
        "# Keyword arguments for train_loader and test _loader to load images to GPU if the available\n",
        "kwargs = {'num_workers': 1, 'pin_memory': True} if use_cuda else {}\n",
        "\n",
        "# Data loader object to load images into GPU/CPU based on availability\n",
        "\n",
        "## Below steps are preprocessing steps on data\n",
        "train_loader = torch.utils.data.DataLoader(\n",
        "    datasets.MNIST('../data', train=True, download=True,   # download and load data from the folder data\n",
        "                    transform=transforms.Compose([\n",
        "                        transforms.ToTensor(), # Convert each image data into tensor\n",
        "                        transforms.Normalize((0.1307,), (0.3081,)) # Normalize the image with the mean and standard deviation of the data provided\n",
        "                    ])),\n",
        "    batch_size=batch_size, shuffle=True, **kwargs) # pass the previously declared batch size and kwargs\n",
        "\n",
        "## Same parameter definitions as the train loader\n",
        "\n",
        "test_loader = torch.utils.data.DataLoader(\n",
        "    datasets.MNIST('../data', train=False, transform=transforms.Compose([\n",
        "                        transforms.ToTensor(),\n",
        "                        transforms.Normalize((0.1307,), (0.3081,))\n",
        "                    ])),\n",
        "    batch_size=batch_size, shuffle=True, **kwargs)\n"
      ],
      "execution_count": 9,
      "outputs": []
    },
    {
      "cell_type": "code",
      "metadata": {
        "id": "8fDefDhaFlwH"
      },
      "source": [
        "from tqdm import tqdm\n",
        "\n",
        "# Train function to train the data\n",
        "def train(model, device, train_loader, optimizer, epoch):\n",
        "    model.train() # training the model\n",
        "    pbar = tqdm(train_loader)\n",
        "\n",
        "    #Iterator to interate through batches\n",
        "    for batch_idx, (data, target) in enumerate(pbar):\n",
        "      # pass the data to GPU for training\n",
        "        data, target = data.to(device), target.to(device)\n",
        "      #  set the gradients to zero before starting to do backpropragation\n",
        "        optimizer.zero_grad()\n",
        "      # Pass the data to model object\n",
        "        output = model(data)\n",
        "      # Calculate the loss\n",
        "        loss = F.nll_loss(output, target)\n",
        "      # compute gradient of loss w.r.t all the parameters in loss\n",
        "        loss.backward()\n",
        "      # updates all the parameters based on parameter.grad\n",
        "        optimizer.step()\n",
        "      # show the progresss in the bar\n",
        "        pbar.set_description(desc= f'loss={loss.item()} batch_id={batch_idx}')\n",
        "\n",
        "# To calculate and display the test set loss\n",
        "def test(model, device, test_loader):\n",
        "    model.eval()\n",
        "    test_loss = 0\n",
        "    correct = 0\n",
        "    with torch.no_grad():\n",
        "        for data, target in test_loader:\n",
        "            data, target = data.to(device), target.to(device)\n",
        "            output = model(data)\n",
        "            test_loss += F.nll_loss(output, target, reduction='sum').item()  # sum up batch loss\n",
        "            pred = output.argmax(dim=1, keepdim=True)  # get the index of the max log-probability\n",
        "            correct += pred.eq(target.view_as(pred)).sum().item()\n",
        "\n",
        "    test_loss /= len(test_loader.dataset)\n",
        "\n",
        "    print('\\nTest set: Average loss: {:.4f}, Accuracy: {}/{} ({:.0f}%)\\n'.format(\n",
        "        test_loss, correct, len(test_loader.dataset),\n",
        "        100. * correct / len(test_loader.dataset)))"
      ],
      "execution_count": 10,
      "outputs": []
    },
    {
      "cell_type": "code",
      "metadata": {
        "id": "MMWbLWO6FuHb",
        "colab": {
          "base_uri": "https://localhost:8080/"
        },
        "outputId": "deddd74c-721e-4b62-d030-0860a229f961"
      },
      "source": [
        "# Move the model to GPU\n",
        "model = Net().to(device)\n",
        "# Initiating the optimizer\n",
        "optimizer = optim.SGD(model.parameters(), lr=0.01, momentum=0.9)\n",
        "\n",
        "# Epochs\n",
        "for epoch in range(1, 5):\n",
        "  # Training the model\n",
        "    train(model, device, train_loader, optimizer, epoch)\n",
        "  # Testing the model\n",
        "    test(model, device, test_loader)"
      ],
      "execution_count": 12,
      "outputs": [
        {
          "output_type": "stream",
          "text": [
            "  0%|          | 0/469 [00:00<?, ?it/s]/usr/local/lib/python3.7/dist-packages/ipykernel_launcher.py:20: UserWarning: Implicit dimension choice for log_softmax has been deprecated. Change the call to include dim=X as an argument.\n",
            "loss=0.6049782633781433 batch_id=468: 100%|██████████| 469/469 [00:17<00:00, 26.51it/s]\n",
            "  0%|          | 0/469 [00:00<?, ?it/s]"
          ],
          "name": "stderr"
        },
        {
          "output_type": "stream",
          "text": [
            "\n",
            "Test set: Average loss: 0.7153, Accuracy: 7944/10000 (79%)\n",
            "\n"
          ],
          "name": "stdout"
        },
        {
          "output_type": "stream",
          "text": [
            "loss=0.6109548211097717 batch_id=468: 100%|██████████| 469/469 [00:17<00:00, 26.19it/s]\n",
            "  0%|          | 0/469 [00:00<?, ?it/s]"
          ],
          "name": "stderr"
        },
        {
          "output_type": "stream",
          "text": [
            "\n",
            "Test set: Average loss: 0.6954, Accuracy: 8008/10000 (80%)\n",
            "\n"
          ],
          "name": "stdout"
        },
        {
          "output_type": "stream",
          "text": [
            "loss=0.5770885348320007 batch_id=468: 100%|██████████| 469/469 [00:17<00:00, 26.27it/s]\n",
            "  0%|          | 0/469 [00:00<?, ?it/s]"
          ],
          "name": "stderr"
        },
        {
          "output_type": "stream",
          "text": [
            "\n",
            "Test set: Average loss: 0.6880, Accuracy: 8013/10000 (80%)\n",
            "\n"
          ],
          "name": "stdout"
        },
        {
          "output_type": "stream",
          "text": [
            "loss=0.7969300746917725 batch_id=468: 100%|██████████| 469/469 [00:17<00:00, 26.70it/s]\n"
          ],
          "name": "stderr"
        },
        {
          "output_type": "stream",
          "text": [
            "\n",
            "Test set: Average loss: 0.6966, Accuracy: 7998/10000 (80%)\n",
            "\n"
          ],
          "name": "stdout"
        }
      ]
    },
    {
      "cell_type": "code",
      "metadata": {
        "id": "So5uk4EkHW6R"
      },
      "source": [
        ""
      ],
      "execution_count": 6,
      "outputs": []
    }
  ]
}