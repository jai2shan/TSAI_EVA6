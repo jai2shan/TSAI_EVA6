{
 "cells": [
  {
   "cell_type": "markdown",
   "metadata": {
    "colab_type": "text",
    "id": "view-in-github"
   },
   "source": [
    "<a href=\"https://colab.research.google.com/github/jai2shan/TSAI_EVA6/blob/main/Session%203/PyTorch101.ipynb\" target=\"_parent\"><img src=\"https://colab.research.google.com/assets/colab-badge.svg\" alt=\"Open In Colab\"/></a>"
   ]
  },
  {
   "cell_type": "markdown",
   "metadata": {
    "id": "_kYM3ylzYo1Q"
   },
   "source": [
    "![PyTorch](https://devblogs.nvidia.com/wp-content/uploads/2017/04/pytorch-logo-dark.png)\n",
    "\n",
    "An open source machine learning framework that accelerates the path from research prototyping to production deployment.\n",
    "\n"
   ]
  },
  {
   "cell_type": "markdown",
   "metadata": {
    "id": "WcVqSTrWY6oz"
   },
   "source": [
    "# Tensor - Pytorch's core data structure\n",
    "\n",
    "In Python we can create lists, lists of lists, lists of lists and so on. In NumPy there is a `numpy.ndarray` which represents `n`- dimensional array. In math there is a special name for the generalization of vectors and matrices to a higher dimensional space - a tensor\n",
    "\n",
    "Tensor is an entity with a defined number of dimensions called an order (rank). \n",
    "\n",
    "**Scalar** can be considered as a rank-0-tensor. \n",
    "\n",
    "**Vector** can be introduced as a rank-1-tensor. \n",
    "\n",
    "**Matrices** can be considered as a rank-2-tensor.\n",
    "\n",
    "# Tensor Basics\n",
    "\n",
    "Let's import the torch module first."
   ]
  },
  {
   "cell_type": "code",
   "execution_count": 8,
   "metadata": {
    "id": "e-oFVL2tYYqp"
   },
   "outputs": [],
   "source": [
    "import numpy as np\n",
    "import torch\n",
    "from colorama import Fore, Back, Style"
   ]
  },
  {
   "cell_type": "markdown",
   "metadata": {
    "id": "uGxuR5IEaFJa"
   },
   "source": [
    "## Tensor Creation\n",
    "Let's view examples of matrices and tensors generation\n",
    "\n",
    "2-dimensional (rank-2) tensor of zeros:"
   ]
  },
  {
   "cell_type": "code",
   "execution_count": 13,
   "metadata": {
    "colab": {
     "base_uri": "https://localhost:8080/",
     "height": 71
    },
    "id": "897JQc25aD3E",
    "outputId": "440b9c18-58f8-4011-dea0-fd49aa0281fd"
   },
   "outputs": [
    {
     "data": {
      "text/plain": [
       "tensor([[0., 0., 0., 0.],\n",
       "        [0., 0., 0., 0.],\n",
       "        [0., 0., 0., 0.]])"
      ]
     },
     "execution_count": 13,
     "metadata": {},
     "output_type": "execute_result"
    }
   ],
   "source": [
    "torch.zeros(3, 4)"
   ]
  },
  {
   "cell_type": "markdown",
   "metadata": {
    "id": "pujmpEBhaPRA"
   },
   "source": [
    "Random rank-3 tensor:\n",
    "_read the print below and convince yourself how this is a rank-3-tensor and learn what those 2, 3, 4 values are there for_"
   ]
  },
  {
   "cell_type": "code",
   "execution_count": 14,
   "metadata": {
    "colab": {
     "base_uri": "https://localhost:8080/",
     "height": 143
    },
    "id": "mBrznTNhaOL7",
    "outputId": "b8766972-2d0b-4b41-cd3b-b66dbbb56c40"
   },
   "outputs": [
    {
     "data": {
      "text/plain": [
       "tensor([[[0.0086, 0.2687, 0.5247, 0.5713],\n",
       "         [0.2800, 0.3564, 0.9968, 0.1819],\n",
       "         [0.6193, 0.7245, 0.8389, 0.5664]],\n",
       "\n",
       "        [[0.1441, 0.5848, 0.8284, 0.3702],\n",
       "         [0.1109, 0.5137, 0.3078, 0.3896],\n",
       "         [0.8693, 0.2364, 0.1956, 0.2933]]])"
      ]
     },
     "execution_count": 14,
     "metadata": {},
     "output_type": "execute_result"
    }
   ],
   "source": [
    "torch.rand(2, 3, 4)"
   ]
  },
  {
   "cell_type": "markdown",
   "metadata": {
    "id": "kO4fIr15asdi"
   },
   "source": [
    "I am hoping you have noticed 4-elements in a row, 3 rows making one block and there are 2 blocks. \n",
    "\n",
    "Random rank-4-tensor:"
   ]
  },
  {
   "cell_type": "code",
   "execution_count": 15,
   "metadata": {
    "colab": {
     "base_uri": "https://localhost:8080/",
     "height": 233
    },
    "id": "KiCLvMGCaVZ3",
    "outputId": "d5c01ff4-23be-4084-a143-b3e639ae1d5f"
   },
   "outputs": [
    {
     "data": {
      "text/plain": [
       "tensor([[[[0.0523, 0.7634, 0.1166],\n",
       "          [0.4860, 0.0827, 0.0251]],\n",
       "\n",
       "         [[0.5357, 0.7115, 0.5509],\n",
       "          [0.3456, 0.7050, 0.8776]]],\n",
       "\n",
       "\n",
       "        [[[0.2674, 0.5120, 0.7969],\n",
       "          [0.0802, 0.8596, 0.4027]],\n",
       "\n",
       "         [[0.1185, 0.7592, 0.1237],\n",
       "          [0.9643, 0.0318, 0.6043]]]])"
      ]
     },
     "execution_count": 15,
     "metadata": {},
     "output_type": "execute_result"
    }
   ],
   "source": [
    "torch.rand(2, 2, 2, 3)"
   ]
  },
  {
   "cell_type": "markdown",
   "metadata": {
    "id": "lF6VL68s3AMV"
   },
   "source": [
    "## Question 1:\n",
    "\n",
    "How many dimensions are there in a tensor defined as below?"
   ]
  },
  {
   "cell_type": "code",
   "execution_count": 16,
   "metadata": {
    "colab": {
     "base_uri": "https://localhost:8080/",
     "height": 35
    },
    "id": "8IbXcI3x3Ibt",
    "outputId": "917e866e-9ad8-4b5a-f190-72ba415c87e7"
   },
   "outputs": [
    {
     "data": {
      "text/plain": [
       "tensor([[[[0.0571]]]])"
      ]
     },
     "execution_count": 16,
     "metadata": {},
     "output_type": "execute_result"
    }
   ],
   "source": [
    "torch.rand(1, 1, 1, 1)"
   ]
  },
  {
   "cell_type": "code",
   "execution_count": 17,
   "metadata": {},
   "outputs": [
    {
     "name": "stdout",
     "output_type": "stream",
     "text": [
      "\u001b[42m4 dimensions are there in a tensor \n"
     ]
    }
   ],
   "source": [
    "val = torch.rand(1, 1, 1, 1)\n",
    "\n",
    "print(Back.GREEN +'{} dimensions are there in a tensor '.format(len(val.size())))"
   ]
  },
  {
   "cell_type": "markdown",
   "metadata": {
    "id": "qmgpqssRa9jF"
   },
   "source": [
    "===========================================================================================================      \n",
    "There are many more ways to create tensor using some restrictions on values it should contatn - for the full  reference, please follow the [official docs](https://pytorch.org/docs/stable/torch.html#creation-ops). \n",
    "\n",
    "\n",
    "\n",
    "\n",
    "# Python / NumPy / Pytorch interoperability\n",
    "\n",
    "You can create tensors from python as well as numpy arrays. You can also convert torch tensors to numpy arrays. So, the interoperability between torch and numpy is pretty good. "
   ]
  },
  {
   "cell_type": "code",
   "execution_count": 18,
   "metadata": {
    "colab": {
     "base_uri": "https://localhost:8080/",
     "height": 125
    },
    "id": "ipgpeWPfa6gE",
    "outputId": "73e2f4aa-d3ae-4585-cad8-3a4aaf03435d"
   },
   "outputs": [
    {
     "name": "stdout",
     "output_type": "stream",
     "text": [
      "List:    [1, 2]\n",
      "Array:   [1 2]\n",
      "Tensor:  tensor([1, 2])\n",
      "Tensor:  tensor([1, 2])\n",
      "Tensor:  tensor([1, 2])\n",
      "Array:   [1 2]\n"
     ]
    }
   ],
   "source": [
    "# Simple Python List\n",
    "python_list = [1, 2]\n",
    "\n",
    "# Create a numpy array from python list\n",
    "numpy_array = np.array(python_list)\n",
    "\n",
    "# Create a torch Tensor from python list\n",
    "tensor_from_list = torch.tensor(python_list)\n",
    "\n",
    "# Create a torch Tensor from Numpy array\n",
    "tensor_from_array = torch.tensor(numpy_array)\n",
    "\n",
    "# Another way to create a torch Tensor from Numpy array (share same storage)\n",
    "tensor_from_array_v2 = torch.from_numpy(numpy_array)\n",
    "\n",
    "# Convert torch tensor to numpy array\n",
    "array_from_tensor = tensor_from_array.numpy()\n",
    "\n",
    "print('List:   ', python_list)\n",
    "print('Array:  ', numpy_array)\n",
    "print('Tensor: ', tensor_from_list)\n",
    "print('Tensor: ', tensor_from_array)\n",
    "print('Tensor: ', tensor_from_array_v2)\n",
    "print('Array:  ', array_from_tensor)"
   ]
  },
  {
   "cell_type": "markdown",
   "metadata": {
    "id": "X_x-86B8gqik"
   },
   "source": [
    "**Difference between** `torch.Tensor` **and** `torch.from_numpy`\n",
    "\n",
    "Pytorch aims to be an effective library for computations. What does it mean? It means that pytorch avoids memory copying if it can. "
   ]
  },
  {
   "cell_type": "code",
   "execution_count": 19,
   "metadata": {
    "colab": {
     "base_uri": "https://localhost:8080/",
     "height": 71
    },
    "id": "eHCKDGpygn_d",
    "outputId": "9d4a2409-7d5f-488c-d06b-a672c3141b76"
   },
   "outputs": [
    {
     "name": "stdout",
     "output_type": "stream",
     "text": [
      "Array:   [10  2]\n",
      "Tensor:  tensor([1, 2])\n",
      "Tensor:  tensor([10,  2])\n"
     ]
    }
   ],
   "source": [
    "numpy_array[0] = 10\n",
    "\n",
    "print('Array:  ', numpy_array)\n",
    "print('Tensor: ', tensor_from_array)\n",
    "print('Tensor: ', tensor_from_array_v2)"
   ]
  },
  {
   "cell_type": "markdown",
   "metadata": {
    "id": "-CKtdNRM3SMp"
   },
   "source": [
    "## Question 2:\n",
    "\n",
    "Assume that we moved our complete (cats vs dogs) image dataset to numpy arrays. Then we use torch.from_numpy to convert these images to tensor. Then we apply a specific data augmentation strategy called \"CutOut\" which blocks a portion of the image directly on these tensors. What will happen to the accuracy of a model trained on this strategy compared to the one without this strategy? CutOut strategy is shown below: \n",
    "\n",
    "![CutOut](https://encrypted-tbn0.gstatic.com/images?q=tbn%3AANd9GcSnSyN835AmtQPKQbPjDHX-FmshNilbtexX95cRGQPwl56QCGDn)\n",
    "\n",
    "##### Answer\n",
    "<mark style=\"background-color: green;color: white;\">\n",
    "This imporves the model performance. Cutout strategy is method to avoid overfitting. Prior to Cutout there were other strategies such as dropout and weight penalties.\n",
    "With Cutout, the largest feature activations are distributed centrally towards the initial or shallow layers of the network, indicating that the network is using more information from the data space.    \n",
    "<br>\n",
    "\n",
    "</mark>              \n",
    "Paper Name :\n",
    "<br>\n",
    "<mark style=\"background-color: green;color: white;\">  \n",
    "Improved Regularization of Convolutional Neural Networks with Cutout (Cutout), by University of Guelph, and Canadian Institute for Advanced Research and Vector Institute\n",
    "</mark> \n",
    "\n",
    "## Question 3:\n",
    "Why do you think we are observing this behavior?\n",
    "\n",
    "##### Answer\n",
    "<mark style=\"background-color: green;color: white;\">\n",
    "Intuitively, Cutout Regularization will force a CNN model to develop a more diverse set of features for classifying images. Instead of just focusing on the wheels of a car, Cutout Regularization will force the model to look at other details of the image\n",
    "</mark> \n",
    "   \n",
    "==================================================================================================================\n",
    "\n",
    "\n"
   ]
  },
  {
   "cell_type": "markdown",
   "metadata": {
    "id": "dZq7O-aihSOA"
   },
   "source": [
    "We have two different ways to create tensor from its NumPy counterpart - one copies memory and another one shares the same underlying storage. It works in the opposite way:"
   ]
  },
  {
   "cell_type": "code",
   "execution_count": null,
   "metadata": {
    "colab": {
     "base_uri": "https://localhost:8080/",
     "height": 89
    },
    "id": "TNFOwV8EhPwQ",
    "outputId": "5c3662a8-6726-472a-b7ad-c7762136f687"
   },
   "outputs": [
    {
     "name": "stdout",
     "output_type": "stream",
     "text": [
      "Tensor:  tensor([1, 2])\n",
      "Array:  [1 2]\n",
      "Tensor:  tensor([11,  2])\n",
      "Array:  [11  2]\n"
     ]
    }
   ],
   "source": [
    "array_from_tensor = tensor_from_array.numpy()\n",
    "print('Tensor: ', tensor_from_array)\n",
    "print('Array: ', array_from_tensor)\n",
    "\n",
    "tensor_from_array[0] = 11\n",
    "print('Tensor: ', tensor_from_array)\n",
    "print('Array: ', array_from_tensor)"
   ]
  },
  {
   "cell_type": "markdown",
   "metadata": {
    "id": "UM9ytbvKhtCw"
   },
   "source": [
    "## Data types\n",
    "\n",
    "The basic data type of all Deep Learning-related operations is float, but sometimes you may need something else. Pytorch support different number types for its tensors the same way NumPy does it - by specifying the data type on tensor creation or via casting. Ths full list of supported data types can be found [here](https://pytorch.org/docs/stable/tensors.html). "
   ]
  },
  {
   "cell_type": "code",
   "execution_count": null,
   "metadata": {
    "colab": {
     "base_uri": "https://localhost:8080/",
     "height": 161
    },
    "id": "Bd6WkzJ4hpYi",
    "outputId": "158763d1-a5c2-4a05-c8d0-447a87063a6b"
   },
   "outputs": [
    {
     "name": "stdout",
     "output_type": "stream",
     "text": [
      "Tensor with default type:  tensor([[0., 0.],\n",
      "        [0., 0.]])\n",
      "Tensor with 16-bit float:  tensor([[0., 0.],\n",
      "        [0., 0.]], dtype=torch.float16)\n",
      "Tensor with integers:  tensor([[0, 0],\n",
      "        [0, 0]], dtype=torch.int16)\n",
      "Tensor with boolean data:  tensor([[False, False],\n",
      "        [False, False]])\n"
     ]
    }
   ],
   "source": [
    "tensor = torch.zeros(2, 2)\n",
    "print('Tensor with default type: ', tensor)\n",
    "tensor = torch.zeros(2, 2, dtype=torch.float16)\n",
    "print('Tensor with 16-bit float: ', tensor)\n",
    "tensor = torch.zeros(2, 2, dtype=torch.int16)\n",
    "print('Tensor with integers: ', tensor)\n",
    "tensor = torch.zeros(2, 2, dtype=torch.bool)\n",
    "print('Tensor with boolean data: ', tensor)"
   ]
  },
  {
   "cell_type": "markdown",
   "metadata": {
    "id": "a9F4Dkdr40TE"
   },
   "source": [
    "\n",
    "\n",
    "---\n",
    "\n",
    "\n",
    "## Question 4:\n",
    "We saw above that some times numpy and tensors share same storage and changing one changes the other. \n",
    "If we define a rank-2-tensor with ones (dtype of f16), and then convert it into a numpy data type using tensor.numpy() and store it in a variable called \"num\", and then we perform this operation `num = num * 0.5`, will the original tensor have 1.0s or 0.5s as its element values? \n"
   ]
  },
  {
   "cell_type": "code",
   "execution_count": 12,
   "metadata": {},
   "outputs": [
    {
     "name": "stdout",
     "output_type": "stream",
     "text": [
      "Initial Torch : tensor([[1., 1.],\n",
      "        [1., 1.]], dtype=torch.float16)\n",
      "Converted Numpy : [[0.5 0.5]\n",
      " [0.5 0.5]]\n"
     ]
    }
   ],
   "source": [
    "a = torch.ones(2, 2,dtype=torch.float16)\n",
    "num = a.numpy() \n",
    "num=num*0.5\n",
    "print(\"Initial Torch :\",a)\n",
    "print(\"Converted Numpy :\",num)"
   ]
  },
  {
   "cell_type": "markdown",
   "metadata": {},
   "source": [
    "<mark style=\"background-color: green;color: white;\">\n",
    "Original tensor will still have 1.0s\n",
    "</mark> "
   ]
  },
  {
   "cell_type": "markdown",
   "metadata": {
    "id": "OiQt8Mmm51OE"
   },
   "source": [
    "\n",
    "\n",
    "---\n",
    "\n",
    "## Question 5: \n",
    "If the operation `num = num*5` is changed to `num[:] = num*5` will the original tensor have 1.0s or 0.5s as its element values? \n",
    "\n",
    "\n",
    "\n",
    "---\n",
    "\n"
   ]
  },
  {
   "cell_type": "code",
   "execution_count": 40,
   "metadata": {},
   "outputs": [
    {
     "name": "stdout",
     "output_type": "stream",
     "text": [
      "Initial Torch : tensor([[0.5000, 0.5000],\n",
      "        [0.5000, 0.5000]], dtype=torch.float16)\n",
      "Converted Numpy : [[0.5 0.5]\n",
      " [0.5 0.5]]\n"
     ]
    }
   ],
   "source": [
    "a = torch.ones(2, 2,dtype=torch.float16)\n",
    "num = a.numpy() \n",
    "num[:] = num*0.5\n",
    "print(\"Initial Torch :\",a)\n",
    "print(\"Converted Numpy :\",num)"
   ]
  },
  {
   "cell_type": "markdown",
   "metadata": {},
   "source": [
    "<mark style=\"background-color: green;color: white;\">\n",
    "Original tensor will have 0.5s\n",
    "</mark> "
   ]
  },
  {
   "cell_type": "markdown",
   "metadata": {
    "id": "vzh8UB8KiVmb"
   },
   "source": [
    "## Indexing\n",
    "\n",
    "Tensor provides access to its elements via the same `[]` operation as a regular python list or NumPy array. However, as you may recall from NumPy usage, the full power of math libraries is accessible only via vectorized operations, i.e. operations without explicit looping over all vector elements in python and using implicit optimized loops in C/C++/CUDA/Fortran/etc. available via special function calls. Pytorch employs the same paradigm and provides a wide range of vectorized operations. Let's take a look at some examples. \n",
    "\n",
    "Joining a list of tensors together with `torch.cat`"
   ]
  },
  {
   "cell_type": "code",
   "execution_count": 27,
   "metadata": {
    "colab": {
     "base_uri": "https://localhost:8080/",
     "height": 125
    },
    "id": "GMaCDKPhiUAb",
    "outputId": "bc0a7e9b-7197-402e-c826-925b38bd4a08"
   },
   "outputs": [
    {
     "name": "stdout",
     "output_type": "stream",
     "text": [
      "tensor([[0., 0.],\n",
      "        [0., 0.],\n",
      "        [0., 0.],\n",
      "        [1., 1.],\n",
      "        [1., 1.],\n",
      "        [1., 1.]])\n"
     ]
    }
   ],
   "source": [
    "a = torch.zeros(3, 2)\n",
    "b = torch.ones(3, 2)\n",
    "print(torch.cat((a, b), dim=0))"
   ]
  },
  {
   "cell_type": "markdown",
   "metadata": {
    "id": "5bj4aeE86zdH"
   },
   "source": [
    "\n",
    "\n",
    "---\n",
    "\n",
    "## Question 6: \n",
    "Is the transpose of concatenated a & b tensor on dimension 1, same as the contatenated tensor of a & b on dimension 0? \n",
    "\n",
    "\n",
    "\n",
    "---\n",
    "\n"
   ]
  },
  {
   "cell_type": "code",
   "execution_count": 39,
   "metadata": {},
   "outputs": [
    {
     "data": {
      "text/plain": [
       "tensor([[0., 0., 0.],\n",
       "        [0., 0., 0.],\n",
       "        [1., 1., 1.],\n",
       "        [1., 1., 1.]])"
      ]
     },
     "execution_count": 39,
     "metadata": {},
     "output_type": "execute_result"
    }
   ],
   "source": [
    "concatenated_a_b_dim_1 = torch.cat((a, b), dim=1)\n",
    "transpose_of_concatenated_a_b = torch.transpose(concatenated_a_b_dim_1,1,0)\n",
    " \n",
    "transpose_of_concatenated_a_b"
   ]
  },
  {
   "cell_type": "markdown",
   "metadata": {},
   "source": [
    "<mark style=\"background-color: green;color: white;\">\n",
    "No, they are not same\n",
    "</mark> "
   ]
  },
  {
   "cell_type": "markdown",
   "metadata": {
    "id": "0TXNne69j7LP"
   },
   "source": [
    "Indexing with another tenxor/array:"
   ]
  },
  {
   "cell_type": "code",
   "execution_count": null,
   "metadata": {
    "colab": {
     "base_uri": "https://localhost:8080/",
     "height": 107
    },
    "id": "KiE-Fsi4jVd6",
    "outputId": "4d151099-547f-4308-a82c-b7a9d7091e4b"
   },
   "outputs": [
    {
     "name": "stdout",
     "output_type": "stream",
     "text": [
      "tensor([0, 1, 2, 3, 4, 5, 6, 7, 8, 9])\n",
      "[False False False False False False  True  True  True  True]\n",
      "tensor([6, 7, 8, 9])\n",
      "tensor([0, 1, 2, 3, 4, 0, 1, 2, 3, 4])\n",
      "tensor([0, 1, 2, 3, 4, 0, 1, 2, 3, 4])\n"
     ]
    }
   ],
   "source": [
    "a = torch.arange(start=0, end=10)\n",
    "indices = np.arange(0, 10) > 5\n",
    "print(a)\n",
    "print(indices)\n",
    "print(a[indices])\n",
    "\n",
    "indices = torch.arange(start=0, end=10) %5\n",
    "print(indices)\n",
    "print(a[indices])"
   ]
  },
  {
   "cell_type": "markdown",
   "metadata": {
    "id": "LS4dnlu47WQu"
   },
   "source": [
    "\n",
    "\n",
    "---\n",
    "\n",
    "## Question 7:\n",
    "\n",
    "`a` is defined as `torch.arange(start=0, end=10)`. We will create `b` using the two operations as below. In both cases do we get the same value?\n",
    "\n",
    "\n",
    "1.   indices variable created by the modulo operation on arange between 0 and 10. Then a new varialble `b` is created from `a` using the last 5 elements of indices. \n",
    "2.   indices variable created by the modulo operation on arange betwenn 1 and 11. Then a new varialble `b` is created from `a` using the last 5 elements of indices. \n",
    "\n",
    "\n",
    "\n",
    "---\n",
    "\n",
    "\n"
   ]
  },
  {
   "cell_type": "code",
   "execution_count": 41,
   "metadata": {},
   "outputs": [
    {
     "name": "stdout",
     "output_type": "stream",
     "text": [
      "tensor([0, 1, 2, 3, 4, 5, 6, 7, 8, 9])\n",
      "[False False False False False False  True  True  True  True]\n",
      "tensor([6, 7, 8, 9])\n",
      "tensor([0, 1, 2, 3, 4, 0, 1, 2, 3, 4])\n",
      "tensor([5, 6, 7, 8, 9, 5, 6, 7, 8, 9])\n"
     ]
    }
   ],
   "source": [
    "a = torch.arange(start=0, end=10)\n",
    "indices = np.arange(0, 10) > 5\n",
    "print(a)\n",
    "print(indices)\n",
    "print(a[indices])\n",
    "\n",
    "indices = torch.arange(start=0, end=10) %5\n",
    "print(indices)\n",
    "print(a[indices+5])"
   ]
  },
  {
   "cell_type": "markdown",
   "metadata": {},
   "source": [
    "<mark style=\"background-color: green;color: white;\">\n",
    "No output is not same in both cases because of the second question has index more than the length of a\n",
    "</mark> "
   ]
  },
  {
   "cell_type": "markdown",
   "metadata": {
    "id": "eQ4ZCVsTk-KH"
   },
   "source": [
    "What should we do if we have, say, rank-2-tensor and want to select only some rows?"
   ]
  },
  {
   "cell_type": "code",
   "execution_count": null,
   "metadata": {
    "colab": {
     "base_uri": "https://localhost:8080/",
     "height": 143
    },
    "id": "_GtRpotjkt1q",
    "outputId": "89ba8b02-10d3-4c37-982a-3ef4b05be946"
   },
   "outputs": [
    {
     "name": "stdout",
     "output_type": "stream",
     "text": [
      "tensor([[0.6657, 0.7041, 0.4038],\n",
      "        [0.1543, 0.4606, 0.1103],\n",
      "        [0.6704, 0.6282, 0.1762],\n",
      "        [0.7504, 0.6413, 0.5980],\n",
      "        [0.0452, 0.2649, 0.7961]])\n"
     ]
    },
    {
     "data": {
      "text/plain": [
       "tensor([[0.6657, 0.7041, 0.4038],\n",
       "        [0.6704, 0.6282, 0.1762]])"
      ]
     },
     "execution_count": 71,
     "metadata": {
      "tags": []
     },
     "output_type": "execute_result"
    }
   ],
   "source": [
    "tensor = torch.rand((5, 3))\n",
    "rows = torch.tensor([0, 2])\n",
    "print(tensor)\n",
    "tensor[rows]"
   ]
  },
  {
   "cell_type": "markdown",
   "metadata": {
    "id": "zIJnr_N2_Qaf"
   },
   "source": [
    "\n",
    "\n",
    "---\n",
    "\n",
    "## Question 8: \n",
    "\n",
    "Consider a tensor defined as `torch.rand((6, 5))`. Is the shape of the new tensor created by taking the 0th, 2nd and 4th row of the old tensor same as the shape of the a newer tensor created by taking the 0th, 2nd and 4th row of the old tensor after transposing it by operation `torch.transpose(tensor, 0, 1)` ?\n",
    "\n",
    "\n",
    "\n",
    "---\n",
    "\n",
    "\n"
   ]
  },
  {
   "cell_type": "markdown",
   "metadata": {},
   "source": [
    "<mark style=\"background-color: green;color: white;\">\n",
    "No \n",
    "</mark> "
   ]
  },
  {
   "cell_type": "markdown",
   "metadata": {
    "id": "naDzFMkslU0b"
   },
   "source": [
    "## Tensor Shapes\n",
    "\n",
    "Reshaping a tensor is a frequently used operation. We can change the shape of a tensor without the memory copying overhead. There are two methods for that: `reshape` and `view`. \n",
    "\n",
    "The difference is the following: \n",
    "\n",
    "\n",
    "*   view tries to return a tensor, and it shares the same memory with the original tensor. In case, if it cannot reuse the same memory due to [some reason](https://pytorch.org/docs/stable/tensors.html?highlight=view#torch.Tensor.view), it just fails. \n",
    "*   reshape always returns the tensor with the desired shape and tries to reuse the memory. If it cannot, it creates a copy\n",
    "\n",
    "Let's see with the help of an example:"
   ]
  },
  {
   "cell_type": "code",
   "execution_count": 43,
   "metadata": {
    "colab": {
     "base_uri": "https://localhost:8080/",
     "height": 179
    },
    "id": "HClDkqLLlMJh",
    "outputId": "703bf39f-96e5-4990-90bb-1b59b96a01fb"
   },
   "outputs": [
    {
     "name": "stdout",
     "output_type": "stream",
     "text": [
      "Pointer to data:  94539652257536\n",
      "Shape:  torch.Size([2, 3, 4])\n",
      "Reshaped tensor - pointer to data 94539652257536\n",
      "Reshaped tensor shape  torch.Size([24])\n",
      "Viewed tensor - pointer to data 94539652257536\n",
      "Viewed tensor shape  torch.Size([3, 2, 4])\n",
      "Original stride:  (12, 4, 1)\n",
      "Reshaped stride:  (1,)\n",
      "Viewed stride:  (8, 4, 1)\n"
     ]
    }
   ],
   "source": [
    "tensor = torch.rand(2, 3, 4)\n",
    "print('Pointer to data: ', tensor.data_ptr())\n",
    "print('Shape: ', tensor.shape)\n",
    "\n",
    "reshaped = tensor.reshape(24)\n",
    "\n",
    "view = tensor.view(3, 2, 4)\n",
    "print('Reshaped tensor - pointer to data', reshaped.data_ptr())\n",
    "print('Reshaped tensor shape ', reshaped.shape)\n",
    "\n",
    "print('Viewed tensor - pointer to data', view.data_ptr())\n",
    "print('Viewed tensor shape ', view.shape)\n",
    "\n",
    "assert tensor.data_ptr() == view.data_ptr()\n",
    "\n",
    "assert np.all(np.equal(tensor.numpy().flat, reshaped.numpy().flat))\n",
    "\n",
    "print('Original stride: ', tensor.stride())\n",
    "print('Reshaped stride: ', reshaped.stride())\n",
    "print('Viewed stride: ', view.stride())"
   ]
  },
  {
   "cell_type": "markdown",
   "metadata": {
    "id": "jIN5jSppm4yC"
   },
   "source": [
    "The basic rule about reshaping the tensor is definitely that you cannot change the total number of elements in it, so the product of all tensor's dimensions should always be the same. It gives us the ability to avoid specifying one dimension when reshaping the tensor - Pytorch can calculate it for us:"
   ]
  },
  {
   "cell_type": "code",
   "execution_count": null,
   "metadata": {
    "colab": {
     "base_uri": "https://localhost:8080/",
     "height": 71
    },
    "id": "e3D19ERFmzOl",
    "outputId": "b49f6393-7a79-4da7-bb31-b5d8cd885e3a"
   },
   "outputs": [
    {
     "name": "stdout",
     "output_type": "stream",
     "text": [
      "torch.Size([3, 2, 4])\n",
      "torch.Size([3, 2, 4])\n",
      "torch.Size([3, 2, 4])\n"
     ]
    }
   ],
   "source": [
    "print(tensor.reshape(3, 2, 4).shape)\n",
    "print(tensor.reshape(3, 2, -1).shape)\n",
    "print(tensor.reshape(3, -1, 4).shape)"
   ]
  },
  {
   "cell_type": "markdown",
   "metadata": {
    "id": "ObgCQKUiETak"
   },
   "source": [
    "\n",
    "\n",
    "---\n",
    "\n",
    "\n",
    "## Question 9:\n",
    "\n",
    "Consider a tensor `a` created with [1, 2, 3] and [1, 2, 3] of size (2, 3) is reshaped with operation `.reshape(-1, 2)`. Also consider a tensor `b` created with [[2, 1]] and of size (1, 2), later operated with `view(2, -1)` operation. \n",
    "\n",
    "If we do a dot product of a and b (using `torch.mm`) and perform the sum of all the elements (using `torch.sum`) what do we get? (enter int value without any decimal point in the quiz)\n",
    "\n",
    "\n",
    "\n",
    "---\n",
    "\n"
   ]
  },
  {
   "cell_type": "code",
   "execution_count": 44,
   "metadata": {},
   "outputs": [
    {
     "name": "stdout",
     "output_type": "stream",
     "text": [
      "torch.Size([2, 3])\n",
      "tensor([[1, 2],\n",
      "        [3, 1],\n",
      "        [2, 3]])\n"
     ]
    },
    {
     "data": {
      "text/plain": [
       "tensor(36)"
      ]
     },
     "execution_count": 44,
     "metadata": {},
     "output_type": "execute_result"
    }
   ],
   "source": [
    "\n",
    "a = torch.tensor([[1, 2, 3],[1, 2, 3]])\n",
    "print(a.shape)\n",
    "print(a.reshape(-1, 2))\n",
    "b = torch.tensor([[2,1],[1, 2]])\n",
    "b.view(2,-1)\n",
    "torch.sum(torch.mm(a.reshape(-1, 2),b.view(2,-1)))"
   ]
  },
  {
   "cell_type": "markdown",
   "metadata": {
    "id": "mza7QPg3ndeV"
   },
   "source": [
    "**Alternative ways to view tensors** - `expand` or `expand_as`.\n",
    "\n",
    "\n",
    "\n",
    "*   `expand` - requires the desired shape as an input\n",
    "*   `expand_as` - uses the shape of another tensor\n",
    "\n",
    "These operations \"repeat\" tensor's values along the specified axes without actually copying the data. \n",
    "\n",
    "As the documentation says, expand:\n",
    "\n",
    "\n",
    "> returns a new view of the self tensor with singleton dimensions expanded to a larger size. Tensor can be also expanded to a larger number of dimensions, and the new ones will be appended at the front. For the new dimensions, the size cannot be set to -1. \n",
    "\n",
    "**Use case:**\n",
    "\n",
    "\n",
    "\n",
    "*   index multi-channel tensor with single-channel mask - imagine a color image with 3 channels (RGB) and binary mask for the area of interest on that image. We cannot index the image with this kind of mask directly since the dimensions are different, but we can use `expand_as` operation to create a view of the mask that has the same dimensions as the image we want to apply it to, but has not copied the data. "
   ]
  },
  {
   "cell_type": "code",
   "execution_count": 45,
   "metadata": {
    "colab": {
     "base_uri": "https://localhost:8080/",
     "height": 596
    },
    "id": "iz33E-V7nPQT",
    "outputId": "8bcfc71f-b0bb-4c37-e5e0-5c4ffa38aacb"
   },
   "outputs": [
    {
     "name": "stdout",
     "output_type": "stream",
     "text": [
      "torch.Size([3, 256, 256])\n"
     ]
    },
    {
     "data": {
      "image/png": "[encoded data removed]",
      "text/plain": [
       "<Figure size 432x288 with 2 Axes>"
      ]
     },
     "metadata": {
      "needs_background": "light"
     },
     "output_type": "display_data"
    },
    {
     "data": {
      "image/png": "[encoded data removed]",
      "text/plain": [
       "<Figure size 432x288 with 2 Axes>"
      ]
     },
     "metadata": {
      "needs_background": "light"
     },
     "output_type": "display_data"
    },
    {
     "data": {
      "image/png": "[encoded data removed]",
      "text/plain": [
       "<Figure size 432x288 with 2 Axes>"
      ]
     },
     "metadata": {
      "needs_background": "light"
     },
     "output_type": "display_data"
    }
   ],
   "source": [
    "%matplotlib inline\n",
    "from matplotlib import pyplot as plt\n",
    "\n",
    "# Create a black image\n",
    "image = torch.zeros(size=(3, 256, 256), dtype=torch.int)\n",
    "\n",
    "# Leave the borders and make the rest of the image Green\n",
    "image[1, 18:256 - 18, 18:256 - 18] = 255\n",
    "\n",
    "# Create a mask of the same size\n",
    "mask = torch.zeros(size=(256, 256), dtype=torch.bool)\n",
    "\n",
    "# Assuming the green region in the original image is the Region of interest, change the mask to white for that area\n",
    "mask[18:256 - 18, 18:256 - 18] = 1\n",
    "\n",
    "# Create a view of the mask with the same dimensions as the original image\n",
    "mask_expanded = mask.expand_as(image)\n",
    "print(mask_expanded.shape)\n",
    "\n",
    "mask_np = mask_expanded.numpy().transpose(1, 2, 0) * 255\n",
    "image_np = image.numpy().transpose(1, 2, 0)\n",
    "\n",
    "fig, ax = plt.subplots(1, 2)\n",
    "ax[0].imshow(image_np)\n",
    "ax[1].imshow(mask_np)\n",
    "plt.show()\n",
    "\n",
    "image[0, mask] += 128\n",
    "fig, ax = plt.subplots(1, 2)\n",
    "ax[0].imshow(image_np)\n",
    "ax[1].imshow(mask_np)\n",
    "plt.show()\n",
    "\n",
    "image[mask_expanded] += 128\n",
    "image.clamp_(0, 255)\n",
    "fig, ax = plt.subplots(1, 2)\n",
    "ax[0].imshow(image_np)\n",
    "ax[1].imshow(mask_np)\n",
    "plt.show()"
   ]
  },
  {
   "cell_type": "markdown",
   "metadata": {
    "id": "jiXBx0k3ptOI"
   },
   "source": [
    "In the example above, one can also find a couple of useful tricks:\n",
    "\n",
    "\n",
    "*   `clamp` method and function is a Pytorch's analogue of NumPy's `clip` function\n",
    "*   many operations on tensors have in-place form, that does not return modified data, but change values in the tensor. The in-place version of the operation has trailing underscore according to Pytorch's naming convension - in the exmaple above it is `clamp_`\n",
    "*   tensors have the same indexing as Numpy's arrays - one can use `:` seperated range, negative indexes and so on.\n",
    "\n",
    "\n",
    ".\n",
    "\n",
    "\n",
    "---\n",
    "\n",
    "# Images and their representations\n",
    "\n",
    "Now, let's discuss images, their representations and how different Python librarties work with them. \n",
    "\n",
    "Probably, the most well-known library for image loading and simple processing is [Pillow](https://pillow.readthedocs.io/en/stable/). \n",
    "\n",
    "However, many people in deep learning area stick with OpenCV for image loading and processing with some usage of another libraries when it is justified by performance/functionality. This is because OpenCV is in general much faster than the other libraries. Here you can find a couple of benchmarks: \n",
    "\n",
    "*   https://www.kaggle.com/zfturbo/benchmark-2019-speed-of-image-reading\n",
    "*   https://github.com/albumentations-team/albumentations#benchmarking-results\n",
    "\n",
    "To sum up the benchmarks above, there are two most common image formats, PNG and JPEGs. If your data is in PNG format - use OpenCV to read it. If it is in JPEG - use libturbojpeg. For image processing, use OpenCV if possible. _We will be using PIL a lot along with these._\n",
    "\n",
    "As you will read the code from others, you may find out that some of them use Pillow/something else to read data. You should know, that color image representations in OpenCV and other libraries are different - OpenCV uses \"BGR\" channel order, while others use \"RGB\" one. \n",
    "\n",
    "To change \"BRG\" <-> \"RGB\" the only thing we need to do it to change channel order."
   ]
  },
  {
   "cell_type": "code",
   "execution_count": 51,
   "metadata": {
    "colab": {
     "base_uri": "https://localhost:8080/",
     "height": 152
    },
    "id": "ZYv4sZMmpndu",
    "outputId": "8751abcd-fa7d-494a-83fc-65db456a2a22"
   },
   "outputs": [
    {
     "name": "stdout",
     "output_type": "stream",
     "text": [
      "['.ipynb_checkpoints', 'images', 'mars.jpeg', 'PyTorch101.ipynb', 'Session 03 - Assignment.ipynb']\n"
     ]
    },
    {
     "data": {
      "image/png": "[encoded data removed]",
      "text/plain": [
       "<Figure size 432x288 with 2 Axes>"
      ]
     },
     "metadata": {
      "needs_background": "light"
     },
     "output_type": "display_data"
    }
   ],
   "source": [
    "%matplotlib inline\n",
    "from matplotlib import pyplot as plt\n",
    "import cv2\n",
    "import os\n",
    "print(os.listdir())\n",
    "\n",
    "bgr_image = cv2.imread('mars.jpeg') \n",
    "# remember to add your own image in case you run this block, if you want to use the same image, \n",
    "# download it from: https://encrypted-tbn0.gstatic.com/images?q=tbn%3AANd9GcRCA40ftnscVzfV8ft8e7vIzQXfXeZdtco8nknJrfCUW6INI40U\n",
    "rgb_image = bgr_image[..., ::-1]\n",
    "fig, ax = plt.subplots(1, 2)\n",
    "ax[0].imshow(bgr_image)\n",
    "ax[1].imshow(rgb_image)\n",
    "plt.show()"
   ]
  },
  {
   "cell_type": "code",
   "execution_count": 78,
   "metadata": {},
   "outputs": [
    {
     "data": {
      "text/plain": [
       "array([[[7, 8, 5],\n",
       "        [7, 8, 5],\n",
       "        [7, 8, 5],\n",
       "        ...,\n",
       "        [7, 8, 5],\n",
       "        [7, 8, 5],\n",
       "        [7, 8, 5]],\n",
       "\n",
       "       [[7, 8, 5],\n",
       "        [7, 8, 5],\n",
       "        [7, 8, 5],\n",
       "        ...,\n",
       "        [7, 8, 5],\n",
       "        [7, 8, 5],\n",
       "        [7, 8, 5]],\n",
       "\n",
       "       [[7, 8, 5],\n",
       "        [7, 8, 5],\n",
       "        [7, 8, 5],\n",
       "        ...,\n",
       "        [7, 8, 5],\n",
       "        [7, 8, 5],\n",
       "        [7, 8, 5]],\n",
       "\n",
       "       ...,\n",
       "\n",
       "       [[7, 8, 5],\n",
       "        [7, 8, 5],\n",
       "        [7, 8, 5],\n",
       "        ...,\n",
       "        [7, 8, 5],\n",
       "        [7, 8, 5],\n",
       "        [7, 8, 5]],\n",
       "\n",
       "       [[5, 6, 3],\n",
       "        [6, 7, 4],\n",
       "        [6, 7, 4],\n",
       "        ...,\n",
       "        [8, 9, 6],\n",
       "        [8, 9, 6],\n",
       "        [8, 9, 6]],\n",
       "\n",
       "       [[5, 6, 3],\n",
       "        [6, 7, 4],\n",
       "        [6, 7, 4],\n",
       "        ...,\n",
       "        [8, 9, 6],\n",
       "        [8, 9, 6],\n",
       "        [8, 9, 6]]], dtype=uint8)"
      ]
     },
     "execution_count": 78,
     "metadata": {},
     "output_type": "execute_result"
    }
   ],
   "source": [
    "bgr_image[:,:,[1,2,0]]"
   ]
  },
  {
   "cell_type": "code",
   "execution_count": 77,
   "metadata": {},
   "outputs": [
    {
     "data": {
      "text/plain": [
       "array([[[8, 7, 5],\n",
       "        [8, 7, 5],\n",
       "        [8, 7, 5],\n",
       "        ...,\n",
       "        [8, 7, 5],\n",
       "        [8, 7, 5],\n",
       "        [8, 7, 5]],\n",
       "\n",
       "       [[8, 7, 5],\n",
       "        [8, 7, 5],\n",
       "        [8, 7, 5],\n",
       "        ...,\n",
       "        [8, 7, 5],\n",
       "        [8, 7, 5],\n",
       "        [8, 7, 5]],\n",
       "\n",
       "       [[8, 7, 5],\n",
       "        [8, 7, 5],\n",
       "        [8, 7, 5],\n",
       "        ...,\n",
       "        [8, 7, 5],\n",
       "        [8, 7, 5],\n",
       "        [8, 7, 5]],\n",
       "\n",
       "       ...,\n",
       "\n",
       "       [[8, 7, 5],\n",
       "        [8, 7, 5],\n",
       "        [8, 7, 5],\n",
       "        ...,\n",
       "        [8, 7, 5],\n",
       "        [8, 7, 5],\n",
       "        [8, 7, 5]],\n",
       "\n",
       "       [[6, 5, 3],\n",
       "        [7, 6, 4],\n",
       "        [7, 6, 4],\n",
       "        ...,\n",
       "        [9, 8, 6],\n",
       "        [9, 8, 6],\n",
       "        [9, 8, 6]],\n",
       "\n",
       "       [[6, 5, 3],\n",
       "        [7, 6, 4],\n",
       "        [7, 6, 4],\n",
       "        ...,\n",
       "        [9, 8, 6],\n",
       "        [9, 8, 6],\n",
       "        [9, 8, 6]]], dtype=uint8)"
      ]
     },
     "execution_count": 77,
     "metadata": {},
     "output_type": "execute_result"
    }
   ],
   "source": [
    "bgr_image[..., ::-1]"
   ]
  },
  {
   "cell_type": "markdown",
   "metadata": {
    "id": "yoi4TeNBGHle"
   },
   "source": [
    "\n",
    "\n",
    "---\n",
    "\n",
    "## Question 10:\n",
    "\n",
    "Looking at the results above it can be said that the pixel values in the blue channels would be very small compared to red channel. True/False?\n",
    "\n",
    "\n",
    "---\n",
    "\n",
    "\n"
   ]
  },
  {
   "cell_type": "markdown",
   "metadata": {},
   "source": [
    "<mark style=\"background-color: green;color: white;\">\n",
    "True\n",
    "</mark> \n"
   ]
  },
  {
   "cell_type": "markdown",
   "metadata": {
    "id": "b3ugFd57zNwa"
   },
   "source": [
    "# Autograd\n",
    "\n",
    "Pytorch supports automatic differentiation. The module which implements this is called **AutoGrad**. It calculates the gradients and keeps track in forward and backward passes. For primitive tensors, you need to enable or disable it using the `required_grad` flag. But, for advanced tensors, it is enabled by default"
   ]
  },
  {
   "cell_type": "code",
   "execution_count": null,
   "metadata": {
    "colab": {
     "base_uri": "https://localhost:8080/",
     "height": 197
    },
    "id": "VMOp4aiou6JR",
    "outputId": "e9a22acd-21b1-427d-c1c0-90302bc1c37a"
   },
   "outputs": [
    {
     "name": "stdout",
     "output_type": "stream",
     "text": [
      "tensor([[0.1420, 0.0529, 0.6277, 0.6623, 0.4401],\n",
      "        [0.0893, 0.8400, 0.5712, 0.4038, 0.1173],\n",
      "        [0.3958, 0.8571, 0.1979, 0.5202, 0.4367]], requires_grad=True)\n",
      "tensor([[0.7102, 0.2647, 3.1385, 3.3117, 2.2004],\n",
      "        [0.4464, 4.2000, 2.8562, 2.0192, 0.5864],\n",
      "        [1.9788, 4.2853, 0.9895, 2.6009, 2.1835]], grad_fn=<MulBackward0>)\n",
      "tensor(31.7716, grad_fn=<SumBackward0>)\n",
      "tensor([[5., 5., 5., 5., 5.],\n",
      "        [5., 5., 5., 5., 5.],\n",
      "        [5., 5., 5., 5., 5.]])\n"
     ]
    }
   ],
   "source": [
    "a = torch.rand((3, 5), requires_grad = True)\n",
    "print(a)\n",
    "result = a * 5\n",
    "print(result)\n",
    "\n",
    "# grad can be implicitly created only for scalar outputs\n",
    "# so let's calculate the sum here so that the output becomes a scalar and we can apply a backward pass\n",
    "mean_result = result.sum()\n",
    "print(mean_result)\n",
    "# calculate gradient\n",
    "mean_result.backward()\n",
    "# print gradient of a\n",
    "print(a.grad)"
   ]
  },
  {
   "cell_type": "markdown",
   "metadata": {
    "id": "ym0Amk2IGfLx"
   },
   "source": [
    "\n",
    "\n",
    "---\n",
    "\n",
    "## Question 11: \n",
    "\n",
    "Why the gradient of a is all 5s above?\n",
    "\n",
    "\n",
    "\n",
    "---\n",
    "\n"
   ]
  },
  {
   "cell_type": "markdown",
   "metadata": {},
   "source": [
    "<mark style=\"background-color: green;color: white;\">\n",
    "we multiplied an input by 5, so the gradient of this operation equals to 5.\n",
    "</mark> \n"
   ]
  },
  {
   "cell_type": "markdown",
   "metadata": {
    "id": "7PDgGq2R0k7I"
   },
   "source": [
    "As we see, Pytorch automagically calculated the gradient value for us. It looks to be the correct value - we multiplied an input by 5, so the gradient of this operation equals to 5.\n",
    "\n",
    "# Disabling Autograd for tensors\n",
    "\n",
    "We don't need to compute gradients for all the variables that are involved in the pipeline. The Pytorch API provides 2 ways to disable autograd.\n",
    "\n",
    "`detach` - returns a copy of the tensor with autograd disabled. This \n",
    "\n",
    "1.   copy is built on the same memory as the original tensor, so in-place size / stride / storage changes (such as resize_ / resizeas / set / transpose) modifications are not allowed.\n",
    "2.   torch.no_grad() - It is a context manager that allows you to guard a series of operations from autograd without creating new tensors."
   ]
  },
  {
   "cell_type": "code",
   "execution_count": 79,
   "metadata": {
    "colab": {
     "base_uri": "https://localhost:8080/",
     "height": 71
    },
    "id": "yqVG9fQb0cLW",
    "outputId": "2081f403-31a2-4296-c670-b899e246a8cc"
   },
   "outputs": [
    {
     "data": {
      "text/plain": [
       "tensor([[10., 10., 10., 10., 10.],\n",
       "        [10., 10., 10., 10., 10.],\n",
       "        [10., 10., 10., 10., 10.]])"
      ]
     },
     "execution_count": 79,
     "metadata": {},
     "output_type": "execute_result"
    }
   ],
   "source": [
    "a = torch.rand((3, 5), requires_grad=True)\n",
    "detached_a = a.detach()\n",
    "detached_result = detached_a * 5\n",
    "result = a * 10\n",
    "# we cannot do backward pass that is required for autograd using multideminsional output,\n",
    "# so let's calculate the sum here\n",
    "mean_result = result.sum()\n",
    "mean_result.backward()\n",
    "a.grad"
   ]
  },
  {
   "cell_type": "code",
   "execution_count": 80,
   "metadata": {
    "colab": {
     "base_uri": "https://localhost:8080/",
     "height": 71
    },
    "id": "uqpch2Be02J7",
    "outputId": "0a5ee8e8-81b8-46f0-c7fc-ac406657e928"
   },
   "outputs": [
    {
     "data": {
      "text/plain": [
       "tensor([[10., 10., 10., 10., 10.],\n",
       "        [10., 10., 10., 10., 10.],\n",
       "        [10., 10., 10., 10., 10.]])"
      ]
     },
     "execution_count": 80,
     "metadata": {},
     "output_type": "execute_result"
    }
   ],
   "source": [
    "a = torch.rand((3, 5), requires_grad=True)\n",
    "with torch.no_grad():\n",
    "    detached_result = a * 5\n",
    "result = a * 10\n",
    "# we cannot do backward pass that is required for autograd using multideminsional output,\n",
    "# so let's calculate the sum here\n",
    "mean_result = result.sum()\n",
    "mean_result.backward()\n",
    "a.grad"
   ]
  },
  {
   "cell_type": "markdown",
   "metadata": {
    "id": "vjh2rYOPJUAZ"
   },
   "source": [
    "# Custom Network\n",
    "\n",
    "A fully-connected ReLU network with one hidden layer and no biases, trained to predict y from x by minimizing squared Euclidean distance.\n",
    "\n",
    "This implementation uses PyTorch tensors to manually compute the forward pass, loss, and backward pass.\n",
    "\n",
    "A PyTorch Tensor is basically the same as a numpy array: it does not know anything about deep learning or computational graphs or gradients, and is just a generic n-dimensional array to be used for arbitrary numeric computation.\n",
    "\n",
    "The biggest difference between a numpy array and a PyTorch Tensor is that a PyTorch Tensor can run on either CPU or GPU. To run operations on the GPU, just cast the Tensor to a cuda datatype."
   ]
  },
  {
   "cell_type": "code",
   "execution_count": 81,
   "metadata": {
    "colab": {
     "base_uri": "https://localhost:8080/",
     "height": 1000
    },
    "id": "0nf5RaB104Vp",
    "outputId": "c0829682-3be1-4709-dff8-2e4d2bc59e53"
   },
   "outputs": [
    {
     "name": "stdout",
     "output_type": "stream",
     "text": [
      "0 46258764.0\n",
      "1 49349032.0\n",
      "2 49560920.0\n",
      "3 37528820.0\n",
      "4 20101632.0\n",
      "5 8570965.0\n",
      "6 3917593.0\n",
      "7 2308392.0\n",
      "8 1670501.875\n",
      "9 1333324.375\n",
      "10 1107230.0\n",
      "11 936194.5\n",
      "12 799975.1875\n",
      "13 689099.625\n",
      "14 597351.0625\n",
      "15 520758.125\n",
      "16 456251.40625\n",
      "17 401552.9375\n",
      "18 354884.9375\n",
      "19 314788.34375\n",
      "20 280124.375\n",
      "21 250036.171875\n",
      "22 223796.09375\n",
      "23 200784.609375\n",
      "24 180563.640625\n",
      "25 162716.296875\n",
      "26 146947.875\n",
      "27 132957.953125\n",
      "28 120527.75\n",
      "29 109454.875\n",
      "30 99553.59375\n",
      "31 90674.734375\n",
      "32 82702.6484375\n",
      "33 75523.21875\n",
      "34 69047.40625\n",
      "35 63194.46875\n",
      "36 57901.59375\n",
      "37 53105.6171875\n",
      "38 48777.84765625\n",
      "39 44850.89453125\n",
      "40 41280.0859375\n",
      "41 38025.28125\n",
      "42 35047.3828125\n",
      "43 32327.072265625\n",
      "44 29839.388671875\n",
      "45 27564.568359375\n",
      "46 25478.12890625\n",
      "47 23563.8984375\n",
      "48 21807.462890625\n",
      "49 20193.630859375\n",
      "50 18709.62109375\n",
      "51 17344.080078125\n",
      "52 16086.583984375\n",
      "53 14927.78515625\n",
      "54 13858.509765625\n",
      "55 12872.3017578125\n",
      "56 11962.5634765625\n",
      "57 11121.685546875\n",
      "58 10344.4697265625\n",
      "59 9625.802734375\n",
      "60 8960.740234375\n",
      "61 8344.85546875\n",
      "62 7774.15185546875\n",
      "63 7245.28955078125\n",
      "64 6754.85986328125\n",
      "65 6299.5751953125\n",
      "66 5876.9560546875\n",
      "67 5484.6181640625\n",
      "68 5120.24609375\n",
      "69 4781.5361328125\n",
      "70 4466.66845703125\n",
      "71 4173.6865234375\n",
      "72 3901.114990234375\n",
      "73 3647.35986328125\n",
      "74 3411.220703125\n",
      "75 3191.30908203125\n",
      "76 2986.44140625\n",
      "77 2795.357177734375\n",
      "78 2617.157958984375\n",
      "79 2451.009521484375\n",
      "80 2296.0498046875\n",
      "81 2151.29345703125\n",
      "82 2016.2099609375\n",
      "83 1890.035400390625\n",
      "84 1772.1375732421875\n",
      "85 1661.998779296875\n",
      "86 1559.0362548828125\n",
      "87 1462.7606201171875\n",
      "88 1372.7327880859375\n",
      "89 1288.5443115234375\n",
      "90 1209.74951171875\n",
      "91 1135.996826171875\n",
      "92 1066.962890625\n",
      "93 1002.326416015625\n",
      "94 941.792236328125\n",
      "95 885.08837890625\n",
      "96 831.9502563476562\n",
      "97 782.1402587890625\n",
      "98 735.44580078125\n",
      "99 691.6632080078125\n",
      "100 650.6083374023438\n",
      "101 612.0942993164062\n",
      "102 575.95068359375\n",
      "103 542.03466796875\n",
      "104 510.19635009765625\n",
      "105 480.3172607421875\n",
      "106 452.2669982910156\n",
      "107 425.9222412109375\n",
      "108 401.1564025878906\n",
      "109 377.8929443359375\n",
      "110 356.04608154296875\n",
      "111 335.50750732421875\n",
      "112 316.2005615234375\n",
      "113 298.0457458496094\n",
      "114 280.9804382324219\n",
      "115 264.926513671875\n",
      "116 249.82455444335938\n",
      "117 235.62173461914062\n",
      "118 222.25392150878906\n",
      "119 209.67510986328125\n",
      "120 197.830322265625\n",
      "121 186.685546875\n",
      "122 176.19102478027344\n",
      "123 166.30364990234375\n",
      "124 156.99456787109375\n",
      "125 148.22500610351562\n",
      "126 139.95826721191406\n",
      "127 132.17156982421875\n",
      "128 124.83341217041016\n",
      "129 117.91658782958984\n",
      "130 111.39572143554688\n",
      "131 105.24560546875\n",
      "132 99.44750213623047\n",
      "133 93.98082733154297\n",
      "134 88.82106018066406\n",
      "135 83.95323944091797\n",
      "136 79.36296844482422\n",
      "137 75.03160858154297\n",
      "138 70.94176483154297\n",
      "139 67.0815200805664\n",
      "140 63.44170379638672\n",
      "141 60.0029182434082\n",
      "142 56.75605010986328\n",
      "143 53.69109344482422\n",
      "144 50.79524612426758\n",
      "145 48.061763763427734\n",
      "146 45.47859191894531\n",
      "147 43.038265228271484\n",
      "148 40.734031677246094\n",
      "149 38.55435562133789\n",
      "150 36.49509048461914\n",
      "151 34.549652099609375\n",
      "152 32.71041488647461\n",
      "153 30.97328758239746\n",
      "154 29.329666137695312\n",
      "155 27.775970458984375\n",
      "156 26.30621337890625\n",
      "157 24.916078567504883\n",
      "158 23.602108001708984\n",
      "159 22.358749389648438\n",
      "160 21.183103561401367\n",
      "161 20.070493698120117\n",
      "162 19.01862144470215\n",
      "163 18.02198028564453\n",
      "164 17.079343795776367\n",
      "165 16.18738555908203\n",
      "166 15.343050956726074\n",
      "167 14.54410171508789\n",
      "168 13.78710651397705\n",
      "169 13.071510314941406\n",
      "170 12.393168449401855\n",
      "171 11.751236915588379\n",
      "172 11.143471717834473\n",
      "173 10.567756652832031\n",
      "174 10.022138595581055\n",
      "175 9.505735397338867\n",
      "176 9.016447067260742\n",
      "177 8.553112983703613\n",
      "178 8.11378288269043\n",
      "179 7.697851181030273\n",
      "180 7.303559303283691\n",
      "181 6.930071830749512\n",
      "182 6.575896739959717\n",
      "183 6.240397930145264\n",
      "184 5.922110080718994\n",
      "185 5.620778560638428\n",
      "186 5.335083961486816\n",
      "187 5.063992500305176\n",
      "188 4.807186126708984\n",
      "189 4.563459396362305\n",
      "190 4.332554817199707\n",
      "191 4.113707542419434\n",
      "192 3.905730724334717\n",
      "193 3.708582639694214\n",
      "194 3.5217881202697754\n",
      "195 3.344326972961426\n",
      "196 3.1761560440063477\n",
      "197 3.0167834758758545\n",
      "198 2.8653030395507812\n",
      "199 2.7216062545776367\n",
      "200 2.5852909088134766\n",
      "201 2.4557507038116455\n",
      "202 2.3331708908081055\n",
      "203 2.2169060707092285\n",
      "204 2.1062262058258057\n",
      "205 2.001155376434326\n",
      "206 1.9016468524932861\n",
      "207 1.8070677518844604\n",
      "208 1.7172162532806396\n",
      "209 1.6320420503616333\n",
      "210 1.551145076751709\n",
      "211 1.4741963148117065\n",
      "212 1.401313066482544\n",
      "213 1.3319228887557983\n",
      "214 1.2662538290023804\n",
      "215 1.2037336826324463\n",
      "216 1.1444565057754517\n",
      "217 1.0880063772201538\n",
      "218 1.0343339443206787\n",
      "219 0.9836776852607727\n",
      "220 0.9353135824203491\n",
      "221 0.889369547367096\n",
      "222 0.8457615971565247\n",
      "223 0.8042421936988831\n",
      "224 0.7648899555206299\n",
      "225 0.7274654507637024\n",
      "226 0.6919553875923157\n",
      "227 0.6582223176956177\n",
      "228 0.6260873675346375\n",
      "229 0.5955560207366943\n",
      "230 0.5665249228477478\n",
      "231 0.5389459133148193\n",
      "232 0.5127660632133484\n",
      "233 0.4878152310848236\n",
      "234 0.46413037180900574\n",
      "235 0.4416101574897766\n",
      "236 0.42020195722579956\n",
      "237 0.399863064289093\n",
      "238 0.38047707080841064\n",
      "239 0.36209550499916077\n",
      "240 0.34461647272109985\n",
      "241 0.327989786863327\n",
      "242 0.31213828921318054\n",
      "243 0.2971097230911255\n",
      "244 0.2828047275543213\n",
      "245 0.269183874130249\n",
      "246 0.25630784034729004\n",
      "247 0.24396827816963196\n",
      "248 0.2322605550289154\n",
      "249 0.22109803557395935\n",
      "250 0.21051904559135437\n",
      "251 0.20040468871593475\n",
      "252 0.19079649448394775\n",
      "253 0.1816818118095398\n",
      "254 0.17299111187458038\n",
      "255 0.16469965875148773\n",
      "256 0.15688422322273254\n",
      "257 0.149390310049057\n",
      "258 0.14228561520576477\n",
      "259 0.13551300764083862\n",
      "260 0.12905700504779816\n",
      "261 0.12292435020208359\n",
      "262 0.11704926192760468\n",
      "263 0.11150263994932175\n",
      "264 0.10622751712799072\n",
      "265 0.10119888186454773\n",
      "266 0.0963999480009079\n",
      "267 0.09186401218175888\n",
      "268 0.0875006914138794\n",
      "269 0.08336178958415985\n",
      "270 0.07943021506071091\n",
      "271 0.07568936049938202\n",
      "272 0.07210656255483627\n",
      "273 0.06870412826538086\n",
      "274 0.06544845551252365\n",
      "275 0.06238209083676338\n",
      "276 0.05945007875561714\n",
      "277 0.05664755031466484\n",
      "278 0.05398627743124962\n",
      "279 0.05145622417330742\n",
      "280 0.04904814437031746\n",
      "281 0.04674674943089485\n",
      "282 0.04454303905367851\n",
      "283 0.04246772080659866\n",
      "284 0.04049669951200485\n",
      "285 0.038607411086559296\n",
      "286 0.03680530562996864\n",
      "287 0.03509078174829483\n",
      "288 0.03345921263098717\n",
      "289 0.03189177066087723\n",
      "290 0.030415721237659454\n",
      "291 0.029019588604569435\n",
      "292 0.027663305401802063\n",
      "293 0.026383141055703163\n",
      "294 0.02516089379787445\n",
      "295 0.023994790390133858\n",
      "296 0.02289123274385929\n",
      "297 0.021830379962921143\n",
      "298 0.02082694321870804\n",
      "299 0.01986720785498619\n",
      "300 0.018954632803797722\n",
      "301 0.018088145181536674\n",
      "302 0.01727060228586197\n",
      "303 0.016479896381497383\n",
      "304 0.01573243737220764\n",
      "305 0.015007827430963516\n",
      "306 0.014324942603707314\n",
      "307 0.013672815635800362\n",
      "308 0.013053389266133308\n",
      "309 0.012456724420189857\n",
      "310 0.011901354417204857\n",
      "311 0.011356718838214874\n",
      "312 0.010844862088561058\n",
      "313 0.01035219244658947\n",
      "314 0.009884003549814224\n",
      "315 0.00944481324404478\n",
      "316 0.009031049907207489\n",
      "317 0.00863470695912838\n",
      "318 0.008246634155511856\n",
      "319 0.007885599508881569\n",
      "320 0.007532121613621712\n",
      "321 0.007205975241959095\n",
      "322 0.006883072201162577\n",
      "323 0.0065864333882927895\n",
      "324 0.006299231667071581\n",
      "325 0.0060269590467214584\n",
      "326 0.005763977766036987\n",
      "327 0.005514107644557953\n",
      "328 0.005278227850794792\n",
      "329 0.005046636797487736\n",
      "330 0.004833776969462633\n",
      "331 0.004626976326107979\n",
      "332 0.004430590663105249\n",
      "333 0.004240259528160095\n",
      "334 0.004061341285705566\n",
      "335 0.0038912484887987375\n",
      "336 0.003728083800524473\n",
      "337 0.0035735690034925938\n",
      "338 0.0034243110567331314\n",
      "339 0.003283038269728422\n",
      "340 0.0031513902358710766\n",
      "341 0.003021773649379611\n",
      "342 0.0028990046121180058\n",
      "343 0.0027832507621496916\n",
      "344 0.002672497881576419\n",
      "345 0.0025635026395320892\n",
      "346 0.0024597817100584507\n",
      "347 0.0023620803840458393\n",
      "348 0.002269023796543479\n",
      "349 0.002179001225158572\n",
      "350 0.002095791045576334\n",
      "351 0.002015357604250312\n",
      "352 0.0019362496677786112\n",
      "353 0.0018620718037709594\n",
      "354 0.0017920732498168945\n",
      "355 0.001723738620057702\n",
      "356 0.0016601934330537915\n",
      "357 0.0015975296264514327\n",
      "358 0.0015396525850519538\n",
      "359 0.0014814226888120174\n",
      "360 0.0014267901424318552\n",
      "361 0.0013768450589850545\n",
      "362 0.0013281251303851604\n",
      "363 0.0012796686496585608\n",
      "364 0.001233321032486856\n",
      "365 0.0011894076596945524\n",
      "366 0.0011478838277980685\n",
      "367 0.0011069528991356492\n",
      "368 0.0010696577373892069\n",
      "369 0.0010304737370461226\n",
      "370 0.0009957789443433285\n",
      "371 0.0009623351506888866\n",
      "372 0.0009311807807534933\n",
      "373 0.0008989298366941512\n",
      "374 0.0008708847453817725\n",
      "375 0.0008416804485023022\n",
      "376 0.0008129013003781438\n",
      "377 0.0007873397553339601\n",
      "378 0.0007606690633110702\n",
      "379 0.0007360088638961315\n",
      "380 0.0007135772029869258\n",
      "381 0.0006916553247720003\n",
      "382 0.0006696100463159382\n",
      "383 0.0006488834042102098\n",
      "384 0.0006283900584094226\n",
      "385 0.0006107880617491901\n",
      "386 0.0005924667930230498\n",
      "387 0.0005736715393140912\n",
      "388 0.0005559400888159871\n",
      "389 0.0005409149453043938\n",
      "390 0.0005240616737864912\n",
      "391 0.0005088155739940703\n",
      "392 0.0004929159767925739\n",
      "393 0.00047807052033022046\n",
      "394 0.0004648459726013243\n",
      "395 0.0004518219502642751\n",
      "396 0.00043893171823583543\n",
      "397 0.00042689385008998215\n",
      "398 0.00041554548079147935\n",
      "399 0.00040378380799666047\n",
      "400 0.0003921538882423192\n",
      "401 0.0003815307281911373\n",
      "402 0.00037191089359112084\n",
      "403 0.0003628913837019354\n",
      "404 0.0003525023639667779\n",
      "405 0.0003436187980696559\n",
      "406 0.0003343499847687781\n",
      "407 0.00032594410004094243\n",
      "408 0.0003186314716003835\n",
      "409 0.0003109585086349398\n",
      "410 0.00030276578036136925\n",
      "411 0.00029524441924877465\n",
      "412 0.0002878882805816829\n",
      "413 0.00028004974592477083\n",
      "414 0.0002720634511206299\n",
      "415 0.00026570193585939705\n",
      "416 0.00025934455334208906\n",
      "417 0.0002538252738304436\n",
      "418 0.00024810482864268124\n",
      "419 0.00024132098769769073\n",
      "420 0.00023559355759061873\n",
      "421 0.00023011010489426553\n",
      "422 0.0002253147540614009\n",
      "423 0.00021996963187120855\n",
      "424 0.00021498654677998275\n",
      "425 0.00020960131951142102\n",
      "426 0.0002057201782008633\n",
      "427 0.00020054243213962764\n",
      "428 0.0001962377136806026\n",
      "429 0.0001922467490658164\n",
      "430 0.0001879194169305265\n",
      "431 0.0001830540131777525\n",
      "432 0.0001791932008927688\n",
      "433 0.00017584831221029162\n",
      "434 0.00017215259140357375\n",
      "435 0.00016869223327375948\n",
      "436 0.00016540155047550797\n",
      "437 0.0001621842966414988\n",
      "438 0.00015812429774086922\n",
      "439 0.00015461990551557392\n",
      "440 0.0001515860785730183\n",
      "441 0.00014852601452730596\n",
      "442 0.000145427678944543\n",
      "443 0.0001425408700015396\n",
      "444 0.0001402076450176537\n",
      "445 0.00013711386418435723\n",
      "446 0.00013450322148855776\n",
      "447 0.0001323040487477556\n",
      "448 0.00012946368951816112\n",
      "449 0.0001274755923077464\n",
      "450 0.0001252309448318556\n",
      "451 0.00012256579066161066\n",
      "452 0.00012054398393956944\n",
      "453 0.00011854441254399717\n",
      "454 0.00011622891906881705\n",
      "455 0.00011417048517614603\n",
      "456 0.00011176241969224066\n",
      "457 0.00011016049393219873\n",
      "458 0.0001082020316971466\n",
      "459 0.0001065521573764272\n",
      "460 0.00010420841135783121\n",
      "461 0.0001028079423122108\n",
      "462 0.00010105308319907635\n",
      "463 9.914320253301412e-05\n",
      "464 9.746579598868266e-05\n",
      "465 9.565845539327711e-05\n",
      "466 9.399401460541412e-05\n",
      "467 9.267439600080252e-05\n",
      "468 9.141297050518915e-05\n",
      "469 8.973832154879346e-05\n",
      "470 8.803080709185451e-05\n",
      "471 8.702817285666242e-05\n",
      "472 8.547587640350685e-05\n",
      "473 8.422562677878886e-05\n",
      "474 8.311141573358327e-05\n",
      "475 8.171882655005902e-05\n",
      "476 8.004842675291002e-05\n",
      "477 7.878372707637027e-05\n",
      "478 7.751380326226354e-05\n",
      "479 7.669220212846994e-05\n",
      "480 7.561245729448274e-05\n",
      "481 7.41406183806248e-05\n",
      "482 7.308066415134817e-05\n",
      "483 7.208929309854284e-05\n",
      "484 7.132430619094521e-05\n",
      "485 7.011199340922758e-05\n",
      "486 6.911867967573926e-05\n",
      "487 6.788499013055116e-05\n",
      "488 6.682825915049762e-05\n",
      "489 6.580213812412694e-05\n",
      "490 6.522314652102068e-05\n",
      "491 6.395243690349162e-05\n",
      "492 6.311362085398287e-05\n",
      "493 6.221437070053071e-05\n",
      "494 6.141103222034872e-05\n",
      "495 6.036890044924803e-05\n",
      "496 5.981752838124521e-05\n",
      "497 5.903785495320335e-05\n",
      "498 5.806077751913108e-05\n",
      "499 5.749917545472272e-05\n"
     ]
    }
   ],
   "source": [
    "dtype = torch.float\n",
    "device = torch.device(\"cpu\")\n",
    "# device = torch.device(\"cuda:0\") # Uncomment this to run on GPU\n",
    "\n",
    "# N is batch size; D_in is input dimension;\n",
    "# H is hidden dimension; D_out is output dimension.\n",
    "N, D_in, H, D_out = 64, 1000, 100, 10\n",
    "\n",
    "# Create random input and output data\n",
    "x = torch.randn(N, D_in, device=device, dtype=dtype)\n",
    "y = torch.randn(N, D_out, device=device, dtype=dtype)\n",
    "\n",
    "# Randomly initialize weights\n",
    "w1 = torch.randn(D_in, H, device=device, dtype=dtype)\n",
    "w2 = torch.randn(H, D_out, device=device, dtype=dtype)\n",
    "\n",
    "learning_rate = 1e-6\n",
    "for t in range(500):\n",
    "    # Forward pass: compute predicted y\n",
    "    h = x.mm(w1)\n",
    "    h_relu = h.clamp(min=0)\n",
    "    y_pred = h_relu.mm(w2)\n",
    "\n",
    "    # Compute and print loss\n",
    "    loss = (y_pred - y).pow(2).sum().item()\n",
    "    print(t, loss)\n",
    "\n",
    "    # Backprop to compute gradients of w1 and w2 with respect to loss\n",
    "    grad_y_pred = 2*(y_pred - y)\n",
    "    grad_w2 = h_relu.t().mm(grad_y_pred)\n",
    "    grad_h_relu = grad_y_pred.mm(w2.t())\n",
    "    grad_h = grad_h_relu.clone()\n",
    "    grad_h[h < 0] = 0\n",
    "    grad_w1 = x.t().mm(grad_h)\n",
    "\n",
    "    # Update weights using gradient descent\n",
    "    w1 -= learning_rate * grad_w1\n",
    "    w2 -= learning_rate * grad_w2"
   ]
  },
  {
   "cell_type": "markdown",
   "metadata": {
    "id": "ycwxAPHZLNST"
   },
   "source": [
    "\n",
    "\n",
    "---\n",
    "## Question 12\n",
    "\n",
    "In the code above, why do we have 2 in '2.0*(y_pred - y)`?\n",
    "\n",
    "## Question 13\n",
    "In the code above, what does `grad_h[h < 0] = 0` signify?\n",
    "\n",
    "## Question 14\n",
    "In the code above, how many \"epochs\" have we trained the model for? \n",
    "\n",
    "## Question 15\n",
    "In the code above, if we take the trained model, and run it on fresh  inputs, the trained model will be able to predict fresh output with high accuracy. \n",
    "\n",
    "## Question 16\n",
    "In the code above, if we dont use clone in `grad_h = grad_h_relu.clone()` the model will still train without any issues. "
   ]
  },
  {
   "cell_type": "markdown",
   "metadata": {
    "id": "PnJ49I07JJI6"
   },
   "source": [
    "<mark style=\"background-color: green;color: white;\">\n",
    "Answer to Question 12 :                            \n",
    "Derivative of (y_pred - y).pow(2) is 2.0*(y_pred - y)\n",
    "</mark> \n",
    "\n",
    "\n"
   ]
  },
  {
   "cell_type": "markdown",
   "metadata": {},
   "source": [
    "<mark style=\"background-color: green;color: white;\">\n",
    "Answer to Question 13 : Since we are back propagating, gradients of ReLu can be non zero values. It should be re-updated to make the less than zero values as zeroes. After all, back propagating gradients can return some value other than zero which needs to made zero.\n",
    "</mark>"
   ]
  },
  {
   "cell_type": "markdown",
   "metadata": {},
   "source": [
    "<mark style=\"background-color: green;color: white;\">\n",
    "Answer to Question 14 : No of epochs are 500\n",
    "</mark>"
   ]
  },
  {
   "cell_type": "markdown",
   "metadata": {},
   "source": [
    "<mark style=\"background-color: green;color: white;\">\n",
    "Answer to Question 15 : Trained model will not be able to predict fresh output with high accuracy because we did not use grad_w2 to back propagate the gradients in the below line. grad_h_relu = grad_y_pred.mm(w2.t())\n",
    "</mark>"
   ]
  },
  {
   "cell_type": "markdown",
   "metadata": {},
   "source": [
    "<mark style=\"background-color: green;color: white;\">\n",
    "Answer to Question 16 : Model will train without any issues, but the error will be high.\n",
    "</mark>"
   ]
  }
 ],
 "metadata": {
  "colab": {
   "include_colab_link": true,
   "name": "PyTorch101.ipynb",
   "provenance": []
  },
  "kernelspec": {
   "display_name": "Python 3",
   "language": "python",
   "name": "python3"
  },
  "language_info": {
   "codemirror_mode": {
    "name": "ipython",
    "version": 3
   },
   "file_extension": ".py",
   "mimetype": "text/x-python",
   "name": "python",
   "nbconvert_exporter": "python",
   "pygments_lexer": "ipython3",
   "version": "3.8.5"
  }
 },
 "nbformat": 4,
 "nbformat_minor": 1
}
