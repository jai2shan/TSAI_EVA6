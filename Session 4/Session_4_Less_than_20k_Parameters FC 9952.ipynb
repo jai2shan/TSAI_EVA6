{
  "nbformat": 4,
  "nbformat_minor": 0,
  "metadata": {
    "colab": {
      "name": "Session 4 - Less than 20k Parameters.ipynb",
      "provenance": [],
      "include_colab_link": true
    },
    "kernelspec": {
      "name": "python3",
      "display_name": "Python 3"
    },
    "language_info": {
      "name": "python"
    },
    "accelerator": "GPU"
  },
  "cells": [
    {
      "cell_type": "markdown",
      "metadata": {
        "id": "view-in-github",
        "colab_type": "text"
      },
      "source": [
        "<a href=\"https://colab.research.google.com/github/jai2shan/TSAI_EVA6/blob/main/Session%204/Session_4_Less_than_20k_Parameters%20FC%209952.ipynb\" target=\"_parent\"><img src=\"https://colab.research.google.com/assets/colab-badge.svg\" alt=\"Open In Colab\"/></a>"
      ]
    },
    {
      "cell_type": "markdown",
      "metadata": {
        "id": "i0javcFTcPcm"
      },
      "source": [
        "## Loading necessary packages"
      ]
    },
    {
      "cell_type": "code",
      "metadata": {
        "id": "Zjw4HW9XcM4g"
      },
      "source": [
        "from __future__ import print_function\n",
        "import torch\n",
        "import torch.nn as nn\n",
        "import torch.nn.functional as F\n",
        "import torch.optim as optim\n",
        "from torchvision import datasets, transforms\n",
        "from torchsummary import summary\n",
        "from torch.utils.data import DataLoader, Dataset, ConcatDataset"
      ],
      "execution_count": 1,
      "outputs": []
    },
    {
      "cell_type": "markdown",
      "metadata": {
        "id": "qyQsXK4ucsJv"
      },
      "source": [
        "## Check for GPU "
      ]
    },
    {
      "cell_type": "code",
      "metadata": {
        "id": "UN6eqNJicWy8"
      },
      "source": [
        "use_cuda = torch.cuda.is_available()\n",
        "device = torch.device(\"cuda\" if use_cuda else \"cpu\")\n",
        "torch.manual_seed(1)\n",
        "# defining batch size for training\n",
        "batch_size = 1024"
      ],
      "execution_count": 2,
      "outputs": []
    },
    {
      "cell_type": "markdown",
      "metadata": {
        "id": "uG-6qbN7cwXS"
      },
      "source": [
        "## Data loading and pre-processing\n",
        "\n",
        "Try Random Rotate"
      ]
    },
    {
      "cell_type": "code",
      "metadata": {
        "id": "2jGyQkX9cgS8"
      },
      "source": [
        "# Keyword arguments for train_loader and test _loader to load images to GPU if the available\n",
        "kwargs = {'num_workers': 1, 'pin_memory': True} if use_cuda else {}\n",
        "\n",
        "train_loader = torch.utils.data.DataLoader(\n",
        "    ConcatDataset([\n",
        "                  datasets.MNIST('../data', train=True, download=True,\n",
        "                    transform=transforms.Compose([\n",
        "                        transforms.ToTensor(),\n",
        "                        transforms.Normalize((0.1307,), (0.3081,))\n",
        "                    ])),\n",
        "                  datasets.MNIST('../data', train=True, download=True,\n",
        "                    transform=transforms.Compose([\n",
        "                        transforms.ToTensor(),\n",
        "                        transforms.RandomRotation(10),\n",
        "                        transforms.RandomAffine(degrees=10, shear=45),\n",
        "                        transforms.Normalize((0.1307,), (0.3081,))\n",
        "                    ])),\n",
        "    ]),batch_size=batch_size, shuffle=True, **kwargs) \n",
        "\n",
        "\n",
        "test_loader = torch.utils.data.DataLoader(\n",
        "    datasets.MNIST('../data', train=False, transform=transforms.Compose([\n",
        "                        transforms.ToTensor(),\n",
        "                        transforms.Normalize((0.1307,), (0.3081,))\n",
        "                    ])),\n",
        "    batch_size=batch_size, shuffle=True, **kwargs)"
      ],
      "execution_count": 3,
      "outputs": []
    },
    {
      "cell_type": "markdown",
      "metadata": {
        "id": "VtiIa2LjdIUD"
      },
      "source": [
        "## Training and Testing - Definitions"
      ]
    },
    {
      "cell_type": "code",
      "metadata": {
        "id": "hQKR-5Nic_Vw"
      },
      "source": [
        "from tqdm import tqdm\n",
        "\n",
        "train_losses = []\n",
        "test_losses = []\n",
        "train_acc = []\n",
        "test_acc = []\n",
        "\n",
        "def train(model, device, train_loader, optimizer, epoch):\n",
        "  model.train()\n",
        "  pbar = tqdm(train_loader)\n",
        "  correct = 0\n",
        "  processed = 0\n",
        "  for batch_idx, (data, target) in enumerate(pbar):\n",
        "    # get samples\n",
        "    data, target = data.to(device), target.to(device)\n",
        "\n",
        "    # Init\n",
        "    optimizer.zero_grad()\n",
        "    # In PyTorch, we need to set the gradients to zero before starting to do backpropragation because PyTorch accumulates the gradients on subsequent backward passes. \n",
        "    # Because of this, when you start your training loop, ideally you should zero out the gradients so that you do the parameter update correctly.\n",
        "\n",
        "    # Predict\n",
        "    y_pred = model(data)\n",
        "\n",
        "    # Calculate loss\n",
        "    loss = F.nll_loss(y_pred, target)\n",
        "    train_losses.append(loss)\n",
        "\n",
        "    # Backpropagation\n",
        "    loss.backward()\n",
        "    optimizer.step()\n",
        "\n",
        "    # Update pbar-tqdm\n",
        "    \n",
        "    pred = y_pred.argmax(dim=1, keepdim=True)  # get the index of the max log-probability\n",
        "    correct += pred.eq(target.view_as(pred)).sum().item()\n",
        "    processed += len(data)\n",
        "\n",
        "    pbar.set_description(desc= f'Loss={loss.item()} Batch_id={batch_idx} Accuracy={100*correct/processed:0.2f}')\n",
        "    train_acc.append(100*correct/processed)\n",
        "\n",
        "def test(model, device, test_loader):\n",
        "    model.eval()\n",
        "    test_loss = 0\n",
        "    correct = 0\n",
        "    with torch.no_grad():\n",
        "        for data, target in test_loader:\n",
        "            data, target = data.to(device), target.to(device)\n",
        "            output = model(data)\n",
        "            test_loss += F.nll_loss(output, target, reduction='sum').item()  # sum up batch loss\n",
        "            pred = output.argmax(dim=1, keepdim=True)  # get the index of the max log-probability\n",
        "            correct += pred.eq(target.view_as(pred)).sum().item()\n",
        "\n",
        "    test_loss /= len(test_loader.dataset)\n",
        "    test_losses.append(test_loss)\n",
        "\n",
        "    print('\\nTest set: Average loss: {:.4f}, Accuracy: {}/{} ({:.2f}%)\\n'.format(\n",
        "        test_loss, correct, len(test_loader.dataset),\n",
        "        100. * correct / len(test_loader.dataset)))\n",
        "    \n",
        "    test_acc.append(100. * correct / len(test_loader.dataset))\n",
        "    return 100. * correct / len(test_loader.dataset)"
      ],
      "execution_count": 4,
      "outputs": []
    },
    {
      "cell_type": "code",
      "metadata": {
        "id": "Pafh58eqdQxL"
      },
      "source": [
        "dropout_value = 0.125\n",
        "\n",
        "class Net(nn.Module):\n",
        "    def __init__(self):\n",
        "        super(Net, self).__init__()\n",
        "        # Input Block\n",
        "        self.convblock1 = nn.Sequential(\n",
        "            nn.Conv2d(in_channels=1, out_channels=24, kernel_size=(3, 3), padding=0, bias=False),\n",
        "            nn.ReLU(),\n",
        "            nn.BatchNorm2d(24),\n",
        "            nn.Dropout(dropout_value)\n",
        "        ) # output_size = 26\n",
        "\n",
        "        # CONVOLUTION BLOCK 1\n",
        "        self.convblock2 = nn.Sequential(\n",
        "            nn.Conv2d(in_channels=24, out_channels=24, kernel_size=(3, 3), padding=0, bias=False),\n",
        "            nn.ReLU(),\n",
        "            nn.BatchNorm2d(24),\n",
        "            nn.Dropout(dropout_value)\n",
        "        ) # output_size = 24\n",
        "\n",
        "        # TRANSITION BLOCK 1\n",
        "        self.convblock3 = nn.Sequential(\n",
        "            nn.Conv2d(in_channels=24, out_channels=22, kernel_size=(1, 1), padding=0, bias=False),\n",
        "        ) # output_size = 24\n",
        "        self.pool1 = nn.MaxPool2d(2, 2) # output_size = 12\n",
        "\n",
        "        # CONVOLUTION BLOCK 2\n",
        "        self.convblock4 = nn.Sequential(\n",
        "            nn.Conv2d(in_channels=22, out_channels=20, kernel_size=(3, 3), padding=0, bias=False),\n",
        "            nn.ReLU(),            \n",
        "            nn.BatchNorm2d(20),\n",
        "            nn.Dropout(dropout_value)\n",
        "        ) # output_size = 10\n",
        "        self.convblock5 = nn.Sequential(\n",
        "            nn.Conv2d(in_channels=20, out_channels=20, kernel_size=(3, 3), padding=0, bias=False),\n",
        "            nn.ReLU(),            \n",
        "            nn.BatchNorm2d(20),\n",
        "            nn.Dropout(dropout_value)\n",
        "        ) # output_size = 8\n",
        "        self.convblock6 = nn.Sequential(\n",
        "            nn.Conv2d(in_channels=20, out_channels=18, kernel_size=(3, 3), padding=0, bias=False),\n",
        "            nn.ReLU(),            \n",
        "            nn.BatchNorm2d(18),\n",
        "            # nn.Dropout(dropout_value)\n",
        "        ) # output_size = 6\n",
        "        self.convblock7 = nn.Sequential(\n",
        "            nn.Conv2d(in_channels=18, out_channels=16, kernel_size=(3, 3), padding=1, bias=False),         \n",
        "            nn.BatchNorm2d(16)\n",
        "        ) # output_size = 6\n",
        "        \n",
        "        # OUTPUT BLOCK\n",
        "        # OUTPUT BLOCK\n",
        "        self.gap = nn.Sequential(\n",
        "            nn.AvgPool2d(kernel_size=6)\n",
        "        ) # output_size = 1\n",
        "\n",
        "        self.convblock8 = nn.Sequential(\n",
        "            nn.Conv2d(in_channels=16, out_channels=10, kernel_size=(1, 1), padding=0, bias=False),\n",
        "        ) \n",
        "        self.dropout = nn.Dropout(dropout_value)\n",
        "        self.ln = nn.Linear(10,10)\n",
        "\n",
        "\n",
        "    def forward(self, img):\n",
        "      img = self.convblock1(img)\n",
        "      img = self.convblock2(img)\n",
        "      img = self.convblock3(img)\n",
        "      img = self.pool1(img)\n",
        "      img = self.convblock4(img)\n",
        "      img = self.convblock5(img)\n",
        "      img = self.convblock6(img)\n",
        "      img = self.convblock7(img)\n",
        "      img = self.gap(img)  \n",
        "      img = self.convblock8(img)      \n",
        "      img = img.view(-1, 10)\n",
        "      \n",
        "      img = self.ln(img)\n",
        "      \n",
        "      return F.log_softmax(img, dim=-1)"
      ],
      "execution_count": 5,
      "outputs": []
    },
    {
      "cell_type": "code",
      "metadata": {
        "colab": {
          "base_uri": "https://localhost:8080/"
        },
        "id": "RefuYalUfQ50",
        "outputId": "52e4dcaf-e284-431b-89f1-5ee7efce27a0"
      },
      "source": [
        "model = Net().to(device)\n",
        "summary(model, input_size=(1, 28, 28))"
      ],
      "execution_count": 6,
      "outputs": [
        {
          "output_type": "stream",
          "text": [
            "----------------------------------------------------------------\n",
            "        Layer (type)               Output Shape         Param #\n",
            "================================================================\n",
            "            Conv2d-1           [-1, 24, 26, 26]             216\n",
            "              ReLU-2           [-1, 24, 26, 26]               0\n",
            "       BatchNorm2d-3           [-1, 24, 26, 26]              48\n",
            "           Dropout-4           [-1, 24, 26, 26]               0\n",
            "            Conv2d-5           [-1, 24, 24, 24]           5,184\n",
            "              ReLU-6           [-1, 24, 24, 24]               0\n",
            "       BatchNorm2d-7           [-1, 24, 24, 24]              48\n",
            "           Dropout-8           [-1, 24, 24, 24]               0\n",
            "            Conv2d-9           [-1, 22, 24, 24]             528\n",
            "        MaxPool2d-10           [-1, 22, 12, 12]               0\n",
            "           Conv2d-11           [-1, 20, 10, 10]           3,960\n",
            "             ReLU-12           [-1, 20, 10, 10]               0\n",
            "      BatchNorm2d-13           [-1, 20, 10, 10]              40\n",
            "          Dropout-14           [-1, 20, 10, 10]               0\n",
            "           Conv2d-15             [-1, 20, 8, 8]           3,600\n",
            "             ReLU-16             [-1, 20, 8, 8]               0\n",
            "      BatchNorm2d-17             [-1, 20, 8, 8]              40\n",
            "          Dropout-18             [-1, 20, 8, 8]               0\n",
            "           Conv2d-19             [-1, 18, 6, 6]           3,240\n",
            "             ReLU-20             [-1, 18, 6, 6]               0\n",
            "      BatchNorm2d-21             [-1, 18, 6, 6]              36\n",
            "           Conv2d-22             [-1, 16, 6, 6]           2,592\n",
            "      BatchNorm2d-23             [-1, 16, 6, 6]              32\n",
            "        AvgPool2d-24             [-1, 16, 1, 1]               0\n",
            "           Conv2d-25             [-1, 10, 1, 1]             160\n",
            "           Linear-26                   [-1, 10]             110\n",
            "================================================================\n",
            "Total params: 19,834\n",
            "Trainable params: 19,834\n",
            "Non-trainable params: 0\n",
            "----------------------------------------------------------------\n",
            "Input size (MB): 0.00\n",
            "Forward/backward pass size (MB): 1.16\n",
            "Params size (MB): 0.08\n",
            "Estimated Total Size (MB): 1.24\n",
            "----------------------------------------------------------------\n"
          ],
          "name": "stdout"
        }
      ]
    },
    {
      "cell_type": "code",
      "metadata": {
        "colab": {
          "base_uri": "https://localhost:8080/"
        },
        "id": "-caulp-HfhGU",
        "outputId": "0311f385-9f09-4c8d-8eb4-5c0972695469"
      },
      "source": [
        "model =  Net().to(device)\n",
        "optimizer1 = optim.SGD(model.parameters(), lr=0.05, momentum=0.9)\n",
        "optimizer2 = optim.SGD(model.parameters(), lr=0.02, momentum=0.9)\n",
        "optimizer3 = optim.SGD(model.parameters(), lr=0.01, momentum=0.9)\n",
        "EPOCHS = 20\n",
        "acc = 0\n",
        "for epoch in range(EPOCHS):\n",
        "    print(\"EPOCH:\", epoch)\n",
        "    if acc < 99.35:\n",
        "      train(model, device, train_loader, optimizer1, epoch)\n",
        "      acc = test(model, device, test_loader)\n",
        "    elif (acc>99.35) & (acc<99.42) :\n",
        "      train(model, device, train_loader, optimizer2, epoch)\n",
        "      acc = test(model, device, test_loader)\n",
        "    elif acc>99.42:\n",
        "      train(model, device, train_loader, optimizer3, epoch)\n",
        "      acc = test(model, device, test_loader)\n"
      ],
      "execution_count": 7,
      "outputs": [
        {
          "output_type": "stream",
          "text": [
            "\r  0%|          | 0/118 [00:00<?, ?it/s]"
          ],
          "name": "stderr"
        },
        {
          "output_type": "stream",
          "text": [
            "EPOCH: 0\n"
          ],
          "name": "stdout"
        },
        {
          "output_type": "stream",
          "text": [
            "Loss=0.17001457512378693 Batch_id=117 Accuracy=77.21: 100%|██████████| 118/118 [00:47<00:00,  2.46it/s]\n",
            "  0%|          | 0/118 [00:00<?, ?it/s]"
          ],
          "name": "stderr"
        },
        {
          "output_type": "stream",
          "text": [
            "\n",
            "Test set: Average loss: 0.0806, Accuracy: 9759/10000 (97.59%)\n",
            "\n",
            "EPOCH: 1\n"
          ],
          "name": "stdout"
        },
        {
          "output_type": "stream",
          "text": [
            "Loss=0.09709390252828598 Batch_id=117 Accuracy=96.35: 100%|██████████| 118/118 [00:48<00:00,  2.45it/s]\n",
            "  0%|          | 0/118 [00:00<?, ?it/s]"
          ],
          "name": "stderr"
        },
        {
          "output_type": "stream",
          "text": [
            "\n",
            "Test set: Average loss: 0.0468, Accuracy: 9848/10000 (98.48%)\n",
            "\n",
            "EPOCH: 2\n"
          ],
          "name": "stdout"
        },
        {
          "output_type": "stream",
          "text": [
            "Loss=0.10531359165906906 Batch_id=117 Accuracy=97.60: 100%|██████████| 118/118 [00:48<00:00,  2.44it/s]\n",
            "  0%|          | 0/118 [00:00<?, ?it/s]"
          ],
          "name": "stderr"
        },
        {
          "output_type": "stream",
          "text": [
            "\n",
            "Test set: Average loss: 0.0368, Accuracy: 9874/10000 (98.74%)\n",
            "\n",
            "EPOCH: 3\n"
          ],
          "name": "stdout"
        },
        {
          "output_type": "stream",
          "text": [
            "Loss=0.050519540905952454 Batch_id=117 Accuracy=97.86: 100%|██████████| 118/118 [00:48<00:00,  2.45it/s]\n",
            "  0%|          | 0/118 [00:00<?, ?it/s]"
          ],
          "name": "stderr"
        },
        {
          "output_type": "stream",
          "text": [
            "\n",
            "Test set: Average loss: 0.0252, Accuracy: 9924/10000 (99.24%)\n",
            "\n",
            "EPOCH: 4\n"
          ],
          "name": "stdout"
        },
        {
          "output_type": "stream",
          "text": [
            "Loss=0.06846047192811966 Batch_id=117 Accuracy=98.04: 100%|██████████| 118/118 [00:48<00:00,  2.45it/s]\n",
            "  0%|          | 0/118 [00:00<?, ?it/s]"
          ],
          "name": "stderr"
        },
        {
          "output_type": "stream",
          "text": [
            "\n",
            "Test set: Average loss: 0.0278, Accuracy: 9905/10000 (99.05%)\n",
            "\n",
            "EPOCH: 5\n"
          ],
          "name": "stdout"
        },
        {
          "output_type": "stream",
          "text": [
            "Loss=0.1336873322725296 Batch_id=117 Accuracy=98.21: 100%|██████████| 118/118 [00:48<00:00,  2.44it/s]\n",
            "  0%|          | 0/118 [00:00<?, ?it/s]"
          ],
          "name": "stderr"
        },
        {
          "output_type": "stream",
          "text": [
            "\n",
            "Test set: Average loss: 0.0226, Accuracy: 9929/10000 (99.29%)\n",
            "\n",
            "EPOCH: 6\n"
          ],
          "name": "stdout"
        },
        {
          "output_type": "stream",
          "text": [
            "Loss=0.03111589141190052 Batch_id=117 Accuracy=98.28: 100%|██████████| 118/118 [00:48<00:00,  2.42it/s]\n",
            "  0%|          | 0/118 [00:00<?, ?it/s]"
          ],
          "name": "stderr"
        },
        {
          "output_type": "stream",
          "text": [
            "\n",
            "Test set: Average loss: 0.0269, Accuracy: 9913/10000 (99.13%)\n",
            "\n",
            "EPOCH: 7\n"
          ],
          "name": "stdout"
        },
        {
          "output_type": "stream",
          "text": [
            "Loss=0.08378783613443375 Batch_id=117 Accuracy=98.32: 100%|██████████| 118/118 [00:48<00:00,  2.44it/s]\n",
            "  0%|          | 0/118 [00:00<?, ?it/s]"
          ],
          "name": "stderr"
        },
        {
          "output_type": "stream",
          "text": [
            "\n",
            "Test set: Average loss: 0.0194, Accuracy: 9939/10000 (99.39%)\n",
            "\n",
            "EPOCH: 8\n"
          ],
          "name": "stdout"
        },
        {
          "output_type": "stream",
          "text": [
            "Loss=0.05539044365286827 Batch_id=117 Accuracy=98.60: 100%|██████████| 118/118 [00:48<00:00,  2.42it/s]\n",
            "  0%|          | 0/118 [00:00<?, ?it/s]"
          ],
          "name": "stderr"
        },
        {
          "output_type": "stream",
          "text": [
            "\n",
            "Test set: Average loss: 0.0191, Accuracy: 9927/10000 (99.27%)\n",
            "\n",
            "EPOCH: 9\n"
          ],
          "name": "stdout"
        },
        {
          "output_type": "stream",
          "text": [
            "Loss=0.09263850003480911 Batch_id=117 Accuracy=98.47: 100%|██████████| 118/118 [00:48<00:00,  2.45it/s]\n",
            "  0%|          | 0/118 [00:00<?, ?it/s]"
          ],
          "name": "stderr"
        },
        {
          "output_type": "stream",
          "text": [
            "\n",
            "Test set: Average loss: 0.0207, Accuracy: 9928/10000 (99.28%)\n",
            "\n",
            "EPOCH: 10\n"
          ],
          "name": "stdout"
        },
        {
          "output_type": "stream",
          "text": [
            "Loss=0.0403396338224411 Batch_id=117 Accuracy=98.48: 100%|██████████| 118/118 [00:48<00:00,  2.45it/s]\n",
            "  0%|          | 0/118 [00:00<?, ?it/s]"
          ],
          "name": "stderr"
        },
        {
          "output_type": "stream",
          "text": [
            "\n",
            "Test set: Average loss: 0.0213, Accuracy: 9930/10000 (99.30%)\n",
            "\n",
            "EPOCH: 11\n"
          ],
          "name": "stdout"
        },
        {
          "output_type": "stream",
          "text": [
            "Loss=0.0441768653690815 Batch_id=117 Accuracy=98.59: 100%|██████████| 118/118 [00:48<00:00,  2.44it/s]\n",
            "  0%|          | 0/118 [00:00<?, ?it/s]"
          ],
          "name": "stderr"
        },
        {
          "output_type": "stream",
          "text": [
            "\n",
            "Test set: Average loss: 0.0199, Accuracy: 9930/10000 (99.30%)\n",
            "\n",
            "EPOCH: 12\n"
          ],
          "name": "stdout"
        },
        {
          "output_type": "stream",
          "text": [
            "Loss=0.016654064878821373 Batch_id=117 Accuracy=98.63: 100%|██████████| 118/118 [00:48<00:00,  2.43it/s]\n",
            "  0%|          | 0/118 [00:00<?, ?it/s]"
          ],
          "name": "stderr"
        },
        {
          "output_type": "stream",
          "text": [
            "\n",
            "Test set: Average loss: 0.0161, Accuracy: 9944/10000 (99.44%)\n",
            "\n",
            "EPOCH: 13\n"
          ],
          "name": "stdout"
        },
        {
          "output_type": "stream",
          "text": [
            "Loss=0.04539412632584572 Batch_id=117 Accuracy=98.80: 100%|██████████| 118/118 [00:48<00:00,  2.42it/s]\n",
            "  0%|          | 0/118 [00:00<?, ?it/s]"
          ],
          "name": "stderr"
        },
        {
          "output_type": "stream",
          "text": [
            "\n",
            "Test set: Average loss: 0.0153, Accuracy: 9947/10000 (99.47%)\n",
            "\n",
            "EPOCH: 14\n"
          ],
          "name": "stdout"
        },
        {
          "output_type": "stream",
          "text": [
            "Loss=0.06649830937385559 Batch_id=117 Accuracy=98.82: 100%|██████████| 118/118 [00:48<00:00,  2.43it/s]\n",
            "  0%|          | 0/118 [00:00<?, ?it/s]"
          ],
          "name": "stderr"
        },
        {
          "output_type": "stream",
          "text": [
            "\n",
            "Test set: Average loss: 0.0161, Accuracy: 9946/10000 (99.46%)\n",
            "\n",
            "EPOCH: 15\n"
          ],
          "name": "stdout"
        },
        {
          "output_type": "stream",
          "text": [
            "Loss=0.023435549810528755 Batch_id=117 Accuracy=98.85: 100%|██████████| 118/118 [00:48<00:00,  2.44it/s]\n",
            "  0%|          | 0/118 [00:00<?, ?it/s]"
          ],
          "name": "stderr"
        },
        {
          "output_type": "stream",
          "text": [
            "\n",
            "Test set: Average loss: 0.0157, Accuracy: 9945/10000 (99.45%)\n",
            "\n",
            "EPOCH: 16\n"
          ],
          "name": "stdout"
        },
        {
          "output_type": "stream",
          "text": [
            "Loss=0.0769805908203125 Batch_id=117 Accuracy=98.83: 100%|██████████| 118/118 [00:48<00:00,  2.42it/s]\n",
            "  0%|          | 0/118 [00:00<?, ?it/s]"
          ],
          "name": "stderr"
        },
        {
          "output_type": "stream",
          "text": [
            "\n",
            "Test set: Average loss: 0.0157, Accuracy: 9945/10000 (99.45%)\n",
            "\n",
            "EPOCH: 17\n"
          ],
          "name": "stdout"
        },
        {
          "output_type": "stream",
          "text": [
            "Loss=0.06913169473409653 Batch_id=117 Accuracy=98.87: 100%|██████████| 118/118 [00:48<00:00,  2.43it/s]\n",
            "  0%|          | 0/118 [00:00<?, ?it/s]"
          ],
          "name": "stderr"
        },
        {
          "output_type": "stream",
          "text": [
            "\n",
            "Test set: Average loss: 0.0151, Accuracy: 9947/10000 (99.47%)\n",
            "\n",
            "EPOCH: 18\n"
          ],
          "name": "stdout"
        },
        {
          "output_type": "stream",
          "text": [
            "Loss=0.017103977501392365 Batch_id=117 Accuracy=98.87: 100%|██████████| 118/118 [00:48<00:00,  2.41it/s]\n",
            "  0%|          | 0/118 [00:00<?, ?it/s]"
          ],
          "name": "stderr"
        },
        {
          "output_type": "stream",
          "text": [
            "\n",
            "Test set: Average loss: 0.0159, Accuracy: 9948/10000 (99.48%)\n",
            "\n",
            "EPOCH: 19\n"
          ],
          "name": "stdout"
        },
        {
          "output_type": "stream",
          "text": [
            "Loss=0.04711967334151268 Batch_id=117 Accuracy=98.86: 100%|██████████| 118/118 [00:48<00:00,  2.44it/s]\n"
          ],
          "name": "stderr"
        },
        {
          "output_type": "stream",
          "text": [
            "\n",
            "Test set: Average loss: 0.0150, Accuracy: 9952/10000 (99.52%)\n",
            "\n"
          ],
          "name": "stdout"
        }
      ]
    },
    {
      "cell_type": "code",
      "metadata": {
        "id": "gvXZYKTExHRq"
      },
      "source": [
        ""
      ],
      "execution_count": 7,
      "outputs": []
    },
    {
      "cell_type": "code",
      "metadata": {
        "id": "oXvnkQ_CfyWF"
      },
      "source": [
        ""
      ],
      "execution_count": 7,
      "outputs": []
    }
  ]
}